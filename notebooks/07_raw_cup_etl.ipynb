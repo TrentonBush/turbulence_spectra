{
 "cells": [
  {
   "cell_type": "code",
   "execution_count": 1,
   "metadata": {},
   "outputs": [],
   "source": [
    "%load_ext autoreload"
   ]
  },
  {
   "cell_type": "code",
   "execution_count": 2,
   "metadata": {},
   "outputs": [],
   "source": [
    "%autoreload 2"
   ]
  },
  {
   "cell_type": "code",
   "execution_count": 3,
   "metadata": {},
   "outputs": [],
   "source": [
    "import pandas as pd\n",
    "import numpy as np\n",
    "import seaborn as sns\n",
    "import matplotlib.pyplot as plt\n",
    "import pandas_profiling\n",
    "from pathlib import Path\n",
    "\n",
    "import src.data.process_matlab as pmat\n",
    "import src.data.aggregate as aggr"
   ]
  },
  {
   "cell_type": "code",
   "execution_count": 4,
   "metadata": {},
   "outputs": [
    {
     "data": {
      "text/html": [
       "<style>.container { width:95% !important; }</style>"
      ],
      "text/plain": [
       "<IPython.core.display.HTML object>"
      ]
     },
     "metadata": {},
     "output_type": "display_data"
    }
   ],
   "source": [
    "from IPython.core.display import display, HTML\n",
    "display(HTML(\"<style>.container { width:95% !important; }</style>\"))\n",
    "pd.options.display.max_rows = 10\n",
    "pd.options.display.max_columns = 100"
   ]
  },
  {
   "cell_type": "markdown",
   "metadata": {},
   "source": [
    "# Check Aggregates\n",
    "First, check that the cup data looks like a promising alternative to the sonics. Does it:\n",
    "* have enough availability (counts)\n",
    "* have a reasonable looking distribution of variance (no long failures or severe data issues)"
   ]
  },
  {
   "cell_type": "code",
   "execution_count": 7,
   "metadata": {},
   "outputs": [],
   "source": [
    "# load aggregated data\n",
    "agg_path = Path('../data/processed/cup.parquet')\n",
    "assert agg_path.exists()"
   ]
  },
  {
   "cell_type": "code",
   "execution_count": 8,
   "metadata": {},
   "outputs": [],
   "source": [
    "agg = pd.read_parquet(agg_path)"
   ]
  },
  {
   "cell_type": "code",
   "execution_count": 15,
   "metadata": {},
   "outputs": [],
   "source": [
    "agg = agg.loc[:,['height', 'nan_count', 'mean', 'mean_square', 'cum_square_sd_30s', 'min', 'max', 'timestamp', '3s_gust']]"
   ]
  },
  {
   "cell_type": "code",
   "execution_count": 16,
   "metadata": {},
   "outputs": [],
   "source": [
    "agg['var'] = agg['mean_square'] - agg['mean'].pow(2)"
   ]
  },
  {
   "cell_type": "markdown",
   "metadata": {},
   "source": [
    "The loglog histogram below shows a fair amount of bad data with zero variance (shifted to 1e-6) and crazy outliers up around 1e+6."
   ]
  },
  {
   "cell_type": "code",
   "execution_count": 28,
   "metadata": {},
   "outputs": [
    {
     "data": {
      "text/plain": [
       "<matplotlib.axes._subplots.AxesSubplot at 0x7fa4caf8c820>"
      ]
     },
     "execution_count": 28,
     "metadata": {},
     "output_type": "execute_result"
    },
    {
     "data": {
      "image/png": "[encoded data removed]",
      "text/plain": [
       "<Figure size 432x288 with 1 Axes>"
      ]
     },
     "metadata": {
      "needs_background": "light"
     },
     "output_type": "display_data"
    }
   ],
   "source": [
    "agg['var'].add(1e-6).transform(np.log10).hist(bins=100, log=True)"
   ]
  },
  {
   "cell_type": "code",
   "execution_count": 30,
   "metadata": {},
   "outputs": [
    {
     "data": {
      "text/plain": [
       "(1e-06, 100.0]    498889\n",
       "(-inf, 1e-06]      11142\n",
       "(100.0, inf]         869\n",
       "Name: var, dtype: int64"
      ]
     },
     "execution_count": 30,
     "metadata": {},
     "output_type": "execute_result"
    }
   ],
   "source": [
    "pd.cut(agg['var'], [-np.inf, 1e-6, 1e2, np.inf]).value_counts()"
   ]
  },
  {
   "cell_type": "code",
   "execution_count": 32,
   "metadata": {},
   "outputs": [],
   "source": [
    "agg['log_var'] = agg['var'].replace(0, np.nan).transform(np.log10)"
   ]
  },
  {
   "cell_type": "markdown",
   "metadata": {},
   "source": [
    "Plotting histograms by sensor shows that the vast majority of extreme outliers are on a single sensor, at height=3. Next I'll check if there are *any* of those values on other sensors."
   ]
  },
  {
   "cell_type": "code",
   "execution_count": 40,
   "metadata": {},
   "outputs": [
    {
     "data": {
      "text/plain": [
       "<seaborn.axisgrid.FacetGrid at 0x7fa4d03030d0>"
      ]
     },
     "execution_count": 40,
     "metadata": {},
     "output_type": "execute_result"
    },
    {
     "data": {
      "image/png": "[encoded data removed]",
      "text/plain": [
       "<Figure size 2160x216 with 10 Axes>"
      ]
     },
     "metadata": {
      "needs_background": "light"
     },
     "output_type": "display_data"
    }
   ],
   "source": [
    "sns.displot(data=agg, x='log_var', col='height', height=3, aspect=1)"
   ]
  },
  {
   "cell_type": "markdown",
   "metadata": {},
   "source": [
    "The following table confirms that sensors at heights other than 3 are not significant contributors of extreme outliers."
   ]
  },
  {
   "cell_type": "code",
   "execution_count": 44,
   "metadata": {},
   "outputs": [
    {
     "data": {
      "text/plain": [
       "height\n",
       "3      862.0\n",
       "10       2.0\n",
       "30       0.0\n",
       "38       0.0\n",
       "55       0.0\n",
       "80       1.0\n",
       "87       1.0\n",
       "105      0.0\n",
       "122      1.0\n",
       "130      0.0\n",
       "Name: log_var, dtype: float64"
      ]
     },
     "execution_count": 44,
     "metadata": {},
     "output_type": "execute_result"
    }
   ],
   "source": [
    "agg.groupby('height')['log_var'].agg(lambda x: (x > 3).sum())"
   ]
  },
  {
   "cell_type": "markdown",
   "metadata": {},
   "source": [
    "# Move Ahead with ETL\n",
    "Due to the 180GB data size, the sonic ETL process had to be an all-in-one operation that combined data extraction with some analysis and feature creation. I won't need to do that here. The cup data has 1/20th the sample frequency, and I'll only take a subset of the top few instruments, so the extracted data will only be a few GB and fit in memory. Then I can leave analysis as a separate task."
   ]
  },
  {
   "cell_type": "code",
   "execution_count": 45,
   "metadata": {},
   "outputs": [],
   "source": [
    "test_path = Path('../data/raw/10_01_2019_00_00_00_000.mat')\n",
    "assert test_path.exists()"
   ]
  },
  {
   "cell_type": "markdown",
   "metadata": {},
   "source": [
    "I extended the functionality of pmat.matlab_to_pandas() and wrote a script (extract_cups_1hz.py) to process all the data. Below is just checking along the way."
   ]
  },
  {
   "cell_type": "code",
   "execution_count": 74,
   "metadata": {},
   "outputs": [],
   "source": [
    "cups = pmat.matlab_to_pandas(test_path, timestamps=True, col_subset=pmat.CUP_SUBSET)"
   ]
  },
  {
   "cell_type": "code",
   "execution_count": 75,
   "metadata": {},
   "outputs": [
    {
     "name": "stdout",
     "output_type": "stream",
     "text": [
      "<class 'pandas.core.frame.DataFrame'>\n",
      "RangeIndex: 600 entries, 0 to 599\n",
      "Data columns (total 11 columns):\n",
      " #   Column           Non-Null Count  Dtype         \n",
      "---  ------           --------------  -----         \n",
      " 0   Air_Temp_87m     600 non-null    float32       \n",
      " 1   DeltaT_122_87m   600 non-null    float32       \n",
      " 2   Dewpt_Temp_122m  600 non-null    float32       \n",
      " 3   Dewpt_Temp_87m   600 non-null    float32       \n",
      " 4   PRECIP_INTEN     600 non-null    float32       \n",
      " 5   Cup_WS_C1_130m   600 non-null    float32       \n",
      " 6   Cup_WS_122m      600 non-null    float32       \n",
      " 7   Cup_WS_C1_105m   600 non-null    float32       \n",
      " 8   Vane_WD_122m     600 non-null    float32       \n",
      " 9   Vane_WD_87m      600 non-null    float32       \n",
      " 10  timestamp        600 non-null    datetime64[ns]\n",
      "dtypes: datetime64[ns](1), float32(10)\n",
      "memory usage: 28.2 KB\n"
     ]
    }
   ],
   "source": [
    "cups.info()"
   ]
  },
  {
   "cell_type": "code",
   "execution_count": 76,
   "metadata": {},
   "outputs": [
    {
     "data": {
      "text/html": [
       "<div>\n",
       "<style scoped>\n",
       "    .dataframe tbody tr th:only-of-type {\n",
       "        vertical-align: middle;\n",
       "    }\n",
       "\n",
       "    .dataframe tbody tr th {\n",
       "        vertical-align: top;\n",
       "    }\n",
       "\n",
       "    .dataframe thead th {\n",
       "        text-align: right;\n",
       "    }\n",
       "</style>\n",
       "<table border=\"1\" class=\"dataframe\">\n",
       "  <thead>\n",
       "    <tr style=\"text-align: right;\">\n",
       "      <th></th>\n",
       "      <th>Air_Temp_87m</th>\n",
       "      <th>DeltaT_122_87m</th>\n",
       "      <th>Dewpt_Temp_122m</th>\n",
       "      <th>Dewpt_Temp_87m</th>\n",
       "      <th>PRECIP_INTEN</th>\n",
       "      <th>Cup_WS_C1_130m</th>\n",
       "      <th>Cup_WS_122m</th>\n",
       "      <th>Cup_WS_C1_105m</th>\n",
       "      <th>Vane_WD_122m</th>\n",
       "      <th>Vane_WD_87m</th>\n",
       "      <th>timestamp</th>\n",
       "    </tr>\n",
       "  </thead>\n",
       "  <tbody>\n",
       "    <tr>\n",
       "      <th>0</th>\n",
       "      <td>16.483389</td>\n",
       "      <td>-0.361444</td>\n",
       "      <td>8.047009</td>\n",
       "      <td>8.165394</td>\n",
       "      <td>2.966418</td>\n",
       "      <td>5.816689</td>\n",
       "      <td>5.801024</td>\n",
       "      <td>5.810657</td>\n",
       "      <td>331.159210</td>\n",
       "      <td>318.666260</td>\n",
       "      <td>2019-09-30 17:00:00</td>\n",
       "    </tr>\n",
       "    <tr>\n",
       "      <th>1</th>\n",
       "      <td>16.395626</td>\n",
       "      <td>-0.365807</td>\n",
       "      <td>8.040517</td>\n",
       "      <td>8.152415</td>\n",
       "      <td>2.964146</td>\n",
       "      <td>5.237696</td>\n",
       "      <td>6.023145</td>\n",
       "      <td>6.380082</td>\n",
       "      <td>332.660950</td>\n",
       "      <td>324.725952</td>\n",
       "      <td>2019-09-30 17:00:01</td>\n",
       "    </tr>\n",
       "    <tr>\n",
       "      <th>2</th>\n",
       "      <td>16.457386</td>\n",
       "      <td>-0.357081</td>\n",
       "      <td>8.059991</td>\n",
       "      <td>8.132948</td>\n",
       "      <td>2.959603</td>\n",
       "      <td>5.203672</td>\n",
       "      <td>6.098693</td>\n",
       "      <td>5.677698</td>\n",
       "      <td>338.991425</td>\n",
       "      <td>324.404602</td>\n",
       "      <td>2019-09-30 17:00:02</td>\n",
       "    </tr>\n",
       "    <tr>\n",
       "      <th>3</th>\n",
       "      <td>16.454134</td>\n",
       "      <td>-0.358535</td>\n",
       "      <td>8.059991</td>\n",
       "      <td>8.106991</td>\n",
       "      <td>2.961550</td>\n",
       "      <td>5.119934</td>\n",
       "      <td>5.986108</td>\n",
       "      <td>5.959190</td>\n",
       "      <td>337.281738</td>\n",
       "      <td>325.391602</td>\n",
       "      <td>2019-09-30 17:00:03</td>\n",
       "    </tr>\n",
       "    <tr>\n",
       "      <th>4</th>\n",
       "      <td>16.525644</td>\n",
       "      <td>-0.357081</td>\n",
       "      <td>8.085957</td>\n",
       "      <td>8.139437</td>\n",
       "      <td>2.959603</td>\n",
       "      <td>4.955215</td>\n",
       "      <td>5.634127</td>\n",
       "      <td>5.964228</td>\n",
       "      <td>324.921173</td>\n",
       "      <td>321.948578</td>\n",
       "      <td>2019-09-30 17:00:04</td>\n",
       "    </tr>\n",
       "  </tbody>\n",
       "</table>\n",
       "</div>"
      ],
      "text/plain": [
       "   Air_Temp_87m  DeltaT_122_87m  Dewpt_Temp_122m  Dewpt_Temp_87m  \\\n",
       "0     16.483389       -0.361444         8.047009        8.165394   \n",
       "1     16.395626       -0.365807         8.040517        8.152415   \n",
       "2     16.457386       -0.357081         8.059991        8.132948   \n",
       "3     16.454134       -0.358535         8.059991        8.106991   \n",
       "4     16.525644       -0.357081         8.085957        8.139437   \n",
       "\n",
       "   PRECIP_INTEN  Cup_WS_C1_130m  Cup_WS_122m  Cup_WS_C1_105m  Vane_WD_122m  \\\n",
       "0      2.966418        5.816689     5.801024        5.810657    331.159210   \n",
       "1      2.964146        5.237696     6.023145        6.380082    332.660950   \n",
       "2      2.959603        5.203672     6.098693        5.677698    338.991425   \n",
       "3      2.961550        5.119934     5.986108        5.959190    337.281738   \n",
       "4      2.959603        4.955215     5.634127        5.964228    324.921173   \n",
       "\n",
       "   Vane_WD_87m           timestamp  \n",
       "0   318.666260 2019-09-30 17:00:00  \n",
       "1   324.725952 2019-09-30 17:00:01  \n",
       "2   324.404602 2019-09-30 17:00:02  \n",
       "3   325.391602 2019-09-30 17:00:03  \n",
       "4   321.948578 2019-09-30 17:00:04  "
      ]
     },
     "execution_count": 76,
     "metadata": {},
     "output_type": "execute_result"
    }
   ],
   "source": [
    "cups.head()"
   ]
  }
 ],
 "metadata": {
  "kernelspec": {
   "display_name": "Python 3",
   "language": "python",
   "name": "python3"
  },
  "language_info": {
   "codemirror_mode": {
    "name": "ipython",
    "version": 3
   },
   "file_extension": ".py",
   "mimetype": "text/x-python",
   "name": "python",
   "nbconvert_exporter": "python",
   "pygments_lexer": "ipython3",
   "version": "3.8.2"
  },
  "toc": {
   "base_numbering": 1,
   "nav_menu": {},
   "number_sections": true,
   "sideBar": true,
   "skip_h1_title": false,
   "title_cell": "Table of Contents",
   "title_sidebar": "Contents",
   "toc_cell": false,
   "toc_position": {},
   "toc_section_display": true,
   "toc_window_display": false
  },
  "varInspector": {
   "cols": {
    "lenName": 16,
    "lenType": 16,
    "lenVar": 40
   },
   "kernels_config": {
    "python": {
     "delete_cmd_postfix": "",
     "delete_cmd_prefix": "del ",
     "library": "var_list.py",
     "varRefreshCmd": "print(var_dic_list())"
    },
    "r": {
     "delete_cmd_postfix": ") ",
     "delete_cmd_prefix": "rm(",
     "library": "var_list.r",
     "varRefreshCmd": "cat(var_dic_list()) "
    }
   },
   "types_to_exclude": [
    "module",
    "function",
    "builtin_function_or_method",
    "instance",
    "_Feature"
   ],
   "window_display": false
  }
 },
 "nbformat": 4,
 "nbformat_minor": 4
}
