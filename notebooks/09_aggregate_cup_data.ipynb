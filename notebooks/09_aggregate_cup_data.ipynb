{
 "cells": [
  {
   "cell_type": "code",
   "execution_count": 1,
   "metadata": {},
   "outputs": [],
   "source": [
    "import pandas as pd\n",
    "import numpy as np\n",
    "import matplotlib.pyplot as plt\n",
    "import seaborn as sns\n",
    "from pathlib import Path"
   ]
  },
  {
   "cell_type": "code",
   "execution_count": 2,
   "metadata": {},
   "outputs": [
    {
     "data": {
      "text/html": [
       "<style>.container { width:95% !important; }</style>"
      ],
      "text/plain": [
       "<IPython.core.display.HTML object>"
      ]
     },
     "metadata": {},
     "output_type": "display_data"
    }
   ],
   "source": [
    "from IPython.core.display import display, HTML\n",
    "display(HTML(\"<style>.container { width:95% !important; }</style>\"))\n",
    "pd.options.display.max_rows = 15\n",
    "pd.options.display.max_columns = 100"
   ]
  },
  {
   "cell_type": "code",
   "execution_count": 3,
   "metadata": {},
   "outputs": [],
   "source": [
    "data_dir = Path('../data/processed')\n",
    "assert data_dir.exists()"
   ]
  },
  {
   "cell_type": "code",
   "execution_count": 6,
   "metadata": {},
   "outputs": [],
   "source": [
    "onehz = pd.read_parquet(data_dir / 'cups_1hz.parquet').set_index('timestamp').asfreq('1s') # fill mising timestamps with nan"
   ]
  },
  {
   "cell_type": "code",
   "execution_count": 7,
   "metadata": {},
   "outputs": [
    {
     "data": {
      "text/html": [
       "<div>\n",
       "<style scoped>\n",
       "    .dataframe tbody tr th:only-of-type {\n",
       "        vertical-align: middle;\n",
       "    }\n",
       "\n",
       "    .dataframe tbody tr th {\n",
       "        vertical-align: top;\n",
       "    }\n",
       "\n",
       "    .dataframe thead th {\n",
       "        text-align: right;\n",
       "    }\n",
       "</style>\n",
       "<table border=\"1\" class=\"dataframe\">\n",
       "  <thead>\n",
       "    <tr style=\"text-align: right;\">\n",
       "      <th></th>\n",
       "      <th>Air_Temp_87m</th>\n",
       "      <th>DeltaT_122_87m</th>\n",
       "      <th>Dewpt_Temp_122m</th>\n",
       "      <th>Dewpt_Temp_87m</th>\n",
       "      <th>PRECIP_INTEN</th>\n",
       "      <th>Cup_WS_C1_130m</th>\n",
       "      <th>Cup_WS_122m</th>\n",
       "      <th>Cup_WS_C1_105m</th>\n",
       "      <th>Vane_WD_122m</th>\n",
       "      <th>Vane_WD_87m</th>\n",
       "    </tr>\n",
       "    <tr>\n",
       "      <th>timestamp</th>\n",
       "      <th></th>\n",
       "      <th></th>\n",
       "      <th></th>\n",
       "      <th></th>\n",
       "      <th></th>\n",
       "      <th></th>\n",
       "      <th></th>\n",
       "      <th></th>\n",
       "      <th></th>\n",
       "      <th></th>\n",
       "    </tr>\n",
       "  </thead>\n",
       "  <tbody>\n",
       "    <tr>\n",
       "      <th>2018-12-31 17:00:00</th>\n",
       "      <td>-15.698145</td>\n",
       "      <td>-0.286780</td>\n",
       "      <td>-14.127690</td>\n",
       "      <td>-14.877580</td>\n",
       "      <td>2.939480</td>\n",
       "      <td>6.966611</td>\n",
       "      <td>7.332340</td>\n",
       "      <td>6.931492</td>\n",
       "      <td>22.893036</td>\n",
       "      <td>28.280596</td>\n",
       "    </tr>\n",
       "    <tr>\n",
       "      <th>2018-12-31 17:00:01</th>\n",
       "      <td>-15.555123</td>\n",
       "      <td>-0.286780</td>\n",
       "      <td>-14.108216</td>\n",
       "      <td>-14.851624</td>\n",
       "      <td>2.944349</td>\n",
       "      <td>7.140418</td>\n",
       "      <td>7.182121</td>\n",
       "      <td>6.859962</td>\n",
       "      <td>28.400145</td>\n",
       "      <td>23.877924</td>\n",
       "    </tr>\n",
       "    <tr>\n",
       "      <th>2018-12-31 17:00:02</th>\n",
       "      <td>-15.672141</td>\n",
       "      <td>-0.290412</td>\n",
       "      <td>-14.095233</td>\n",
       "      <td>-14.910026</td>\n",
       "      <td>2.911893</td>\n",
       "      <td>7.181488</td>\n",
       "      <td>6.682454</td>\n",
       "      <td>6.982190</td>\n",
       "      <td>27.367561</td>\n",
       "      <td>21.780317</td>\n",
       "    </tr>\n",
       "  </tbody>\n",
       "</table>\n",
       "</div>"
      ],
      "text/plain": [
       "                     Air_Temp_87m  DeltaT_122_87m  Dewpt_Temp_122m  \\\n",
       "timestamp                                                            \n",
       "2018-12-31 17:00:00    -15.698145       -0.286780       -14.127690   \n",
       "2018-12-31 17:00:01    -15.555123       -0.286780       -14.108216   \n",
       "2018-12-31 17:00:02    -15.672141       -0.290412       -14.095233   \n",
       "\n",
       "                     Dewpt_Temp_87m  PRECIP_INTEN  Cup_WS_C1_130m  \\\n",
       "timestamp                                                           \n",
       "2018-12-31 17:00:00      -14.877580      2.939480        6.966611   \n",
       "2018-12-31 17:00:01      -14.851624      2.944349        7.140418   \n",
       "2018-12-31 17:00:02      -14.910026      2.911893        7.181488   \n",
       "\n",
       "                     Cup_WS_122m  Cup_WS_C1_105m  Vane_WD_122m  Vane_WD_87m  \n",
       "timestamp                                                                    \n",
       "2018-12-31 17:00:00     7.332340        6.931492     22.893036    28.280596  \n",
       "2018-12-31 17:00:01     7.182121        6.859962     28.400145    23.877924  \n",
       "2018-12-31 17:00:02     6.682454        6.982190     27.367561    21.780317  "
      ]
     },
     "execution_count": 7,
     "metadata": {},
     "output_type": "execute_result"
    }
   ],
   "source": [
    "onehz.head(3)"
   ]
  },
  {
   "cell_type": "code",
   "execution_count": 27,
   "metadata": {},
   "outputs": [],
   "source": [
    "# Don't need to know the root cause of a flag anymore, so\n",
    "# collapse separate labels into a single binary flag with .any(axis=1)\n",
    "labels = {f.stem.rsplit('.', maxsplit=1)[0] : pd.read_parquet(f).any(axis=1)\n",
    "          for f in (data_dir / 'labels').glob('*.parquet.gz')\n",
    "         }"
   ]
  },
  {
   "cell_type": "code",
   "execution_count": 28,
   "metadata": {},
   "outputs": [
    {
     "data": {
      "text/plain": [
       "timestamp\n",
       "2018-12-31 17:00:00    False\n",
       "2018-12-31 17:00:01    False\n",
       "2018-12-31 17:00:02    False\n",
       "dtype: bool"
      ]
     },
     "execution_count": 28,
     "metadata": {},
     "output_type": "execute_result"
    }
   ],
   "source": [
    "labels['Cup_WS_C1_105m'].head(3)"
   ]
  },
  {
   "cell_type": "code",
   "execution_count": 33,
   "metadata": {},
   "outputs": [],
   "source": [
    "# apply labels to data\n",
    "for col, label in labels.items():\n",
    "    onehz.loc[:, col].where(~label) # set NaN"
   ]
  },
  {
   "cell_type": "code",
   "execution_count": 34,
   "metadata": {},
   "outputs": [],
   "source": [
    "# Due to inherited processing, set all 0 wind speed values to NaN (interpolate later)\n",
    "onehz.loc[:, ['Cup_WS_C1_105m', 'Cup_WS_C1_130m']] = onehz.loc[:, ['Cup_WS_C1_105m', 'Cup_WS_C1_130m']].replace(0, np.nan)"
   ]
  },
  {
   "cell_type": "code",
   "execution_count": null,
   "metadata": {},
   "outputs": [],
   "source": []
  }
 ],
 "metadata": {
  "kernelspec": {
   "display_name": "Python 3",
   "language": "python",
   "name": "python3"
  },
  "language_info": {
   "codemirror_mode": {
    "name": "ipython",
    "version": 3
   },
   "file_extension": ".py",
   "mimetype": "text/x-python",
   "name": "python",
   "nbconvert_exporter": "python",
   "pygments_lexer": "ipython3",
   "version": "3.8.2"
  },
  "toc": {
   "base_numbering": 1,
   "nav_menu": {},
   "number_sections": true,
   "sideBar": true,
   "skip_h1_title": false,
   "title_cell": "Table of Contents",
   "title_sidebar": "Contents",
   "toc_cell": false,
   "toc_position": {},
   "toc_section_display": true,
   "toc_window_display": false
  },
  "varInspector": {
   "cols": {
    "lenName": 16,
    "lenType": 16,
    "lenVar": 40
   },
   "kernels_config": {
    "python": {
     "delete_cmd_postfix": "",
     "delete_cmd_prefix": "del ",
     "library": "var_list.py",
     "varRefreshCmd": "print(var_dic_list())"
    },
    "r": {
     "delete_cmd_postfix": ") ",
     "delete_cmd_prefix": "rm(",
     "library": "var_list.r",
     "varRefreshCmd": "cat(var_dic_list()) "
    }
   },
   "types_to_exclude": [
    "module",
    "function",
    "builtin_function_or_method",
    "instance",
    "_Feature"
   ],
   "window_display": false
  }
 },
 "nbformat": 4,
 "nbformat_minor": 4
}
