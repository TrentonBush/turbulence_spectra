{
 "cells": [
  {
   "cell_type": "code",
   "execution_count": 36,
   "metadata": {},
   "outputs": [],
   "source": [
    "import pandas as pd\n",
    "import numpy as np\n",
    "from pathlib import Path\n",
    "\n",
    "from src.models.buffered_cv import BufferedBlockedSplit\n",
    "import src.features.build_features as feat\n",
    "\n",
    "idx = pd.IndexSlice"
   ]
  },
  {
   "cell_type": "code",
   "execution_count": 37,
   "metadata": {},
   "outputs": [],
   "source": [
    "data_path = Path('../data/processed/cup_10_min_aggs.parquet')\n",
    "assert data_path.exists()"
   ]
  },
  {
   "cell_type": "code",
   "execution_count": 38,
   "metadata": {},
   "outputs": [
    {
     "data": {
      "text/html": [
       "<div>\n",
       "<style scoped>\n",
       "    .dataframe tbody tr th:only-of-type {\n",
       "        vertical-align: middle;\n",
       "    }\n",
       "\n",
       "    .dataframe tbody tr th {\n",
       "        vertical-align: top;\n",
       "    }\n",
       "\n",
       "    .dataframe thead tr th {\n",
       "        text-align: left;\n",
       "    }\n",
       "\n",
       "    .dataframe thead tr:last-of-type th {\n",
       "        text-align: right;\n",
       "    }\n",
       "</style>\n",
       "<table border=\"1\" class=\"dataframe\">\n",
       "  <thead>\n",
       "    <tr>\n",
       "      <th></th>\n",
       "      <th colspan=\"5\" halign=\"left\">Air_Temp_87m</th>\n",
       "      <th colspan=\"5\" halign=\"left\">Cup_WS_C1_105m</th>\n",
       "      <th>...</th>\n",
       "      <th colspan=\"5\" halign=\"left\">Vane_WD_122m</th>\n",
       "      <th colspan=\"5\" halign=\"left\">Vane_WD_87m</th>\n",
       "    </tr>\n",
       "    <tr>\n",
       "      <th></th>\n",
       "      <th>count</th>\n",
       "      <th>max</th>\n",
       "      <th>mean</th>\n",
       "      <th>min</th>\n",
       "      <th>var</th>\n",
       "      <th>3s_gust</th>\n",
       "      <th>count</th>\n",
       "      <th>integrated_low_freq_ke</th>\n",
       "      <th>max</th>\n",
       "      <th>mean</th>\n",
       "      <th>...</th>\n",
       "      <th>count</th>\n",
       "      <th>max</th>\n",
       "      <th>mean</th>\n",
       "      <th>min</th>\n",
       "      <th>var</th>\n",
       "      <th>count</th>\n",
       "      <th>max</th>\n",
       "      <th>mean</th>\n",
       "      <th>min</th>\n",
       "      <th>var</th>\n",
       "    </tr>\n",
       "    <tr>\n",
       "      <th>timestamp</th>\n",
       "      <th></th>\n",
       "      <th></th>\n",
       "      <th></th>\n",
       "      <th></th>\n",
       "      <th></th>\n",
       "      <th></th>\n",
       "      <th></th>\n",
       "      <th></th>\n",
       "      <th></th>\n",
       "      <th></th>\n",
       "      <th></th>\n",
       "      <th></th>\n",
       "      <th></th>\n",
       "      <th></th>\n",
       "      <th></th>\n",
       "      <th></th>\n",
       "      <th></th>\n",
       "      <th></th>\n",
       "      <th></th>\n",
       "      <th></th>\n",
       "      <th></th>\n",
       "    </tr>\n",
       "  </thead>\n",
       "  <tbody>\n",
       "    <tr>\n",
       "      <th>2018-12-31 17:00:00</th>\n",
       "      <td>600</td>\n",
       "      <td>-15.477113</td>\n",
       "      <td>-15.691004</td>\n",
       "      <td>-15.805410</td>\n",
       "      <td>0.002746</td>\n",
       "      <td>8.805074</td>\n",
       "      <td>600</td>\n",
       "      <td>0.212934</td>\n",
       "      <td>8.917205</td>\n",
       "      <td>7.490526</td>\n",
       "      <td>...</td>\n",
       "      <td>600</td>\n",
       "      <td>33.494221</td>\n",
       "      <td>22.310926</td>\n",
       "      <td>11.305159</td>\n",
       "      <td>15.657919</td>\n",
       "      <td>600</td>\n",
       "      <td>36.993736</td>\n",
       "      <td>23.034079</td>\n",
       "      <td>10.439404</td>\n",
       "      <td>17.228054</td>\n",
       "    </tr>\n",
       "    <tr>\n",
       "      <th>2018-12-31 17:10:00</th>\n",
       "      <td>600</td>\n",
       "      <td>-15.577877</td>\n",
       "      <td>-15.798286</td>\n",
       "      <td>-15.977685</td>\n",
       "      <td>0.004473</td>\n",
       "      <td>8.546263</td>\n",
       "      <td>600</td>\n",
       "      <td>0.368811</td>\n",
       "      <td>8.775206</td>\n",
       "      <td>7.050964</td>\n",
       "      <td>...</td>\n",
       "      <td>600</td>\n",
       "      <td>31.750303</td>\n",
       "      <td>18.813911</td>\n",
       "      <td>3.709938</td>\n",
       "      <td>23.281769</td>\n",
       "      <td>600</td>\n",
       "      <td>34.089355</td>\n",
       "      <td>21.583694</td>\n",
       "      <td>3.040152</td>\n",
       "      <td>25.558174</td>\n",
       "    </tr>\n",
       "    <tr>\n",
       "      <th>2018-12-31 17:20:00</th>\n",
       "      <td>600</td>\n",
       "      <td>-15.714396</td>\n",
       "      <td>-16.011219</td>\n",
       "      <td>-16.208467</td>\n",
       "      <td>0.008372</td>\n",
       "      <td>8.774642</td>\n",
       "      <td>600</td>\n",
       "      <td>0.196161</td>\n",
       "      <td>8.879639</td>\n",
       "      <td>7.794179</td>\n",
       "      <td>...</td>\n",
       "      <td>600</td>\n",
       "      <td>33.310650</td>\n",
       "      <td>18.989834</td>\n",
       "      <td>5.362070</td>\n",
       "      <td>25.907095</td>\n",
       "      <td>600</td>\n",
       "      <td>35.241886</td>\n",
       "      <td>20.046831</td>\n",
       "      <td>2.509987</td>\n",
       "      <td>19.110186</td>\n",
       "    </tr>\n",
       "  </tbody>\n",
       "</table>\n",
       "<p>3 rows × 34 columns</p>\n",
       "</div>"
      ],
      "text/plain": [
       "                    Air_Temp_87m                                             \\\n",
       "                           count        max       mean        min       var   \n",
       "timestamp                                                                     \n",
       "2018-12-31 17:00:00          600 -15.477113 -15.691004 -15.805410  0.002746   \n",
       "2018-12-31 17:10:00          600 -15.577877 -15.798286 -15.977685  0.004473   \n",
       "2018-12-31 17:20:00          600 -15.714396 -16.011219 -16.208467  0.008372   \n",
       "\n",
       "                    Cup_WS_C1_105m                                         \\\n",
       "                           3s_gust count integrated_low_freq_ke       max   \n",
       "timestamp                                                                   \n",
       "2018-12-31 17:00:00       8.805074   600               0.212934  8.917205   \n",
       "2018-12-31 17:10:00       8.546263   600               0.368811  8.775206   \n",
       "2018-12-31 17:20:00       8.774642   600               0.196161  8.879639   \n",
       "\n",
       "                               ... Vane_WD_122m                        \\\n",
       "                         mean  ...        count        max       mean   \n",
       "timestamp                      ...                                      \n",
       "2018-12-31 17:00:00  7.490526  ...          600  33.494221  22.310926   \n",
       "2018-12-31 17:10:00  7.050964  ...          600  31.750303  18.813911   \n",
       "2018-12-31 17:20:00  7.794179  ...          600  33.310650  18.989834   \n",
       "\n",
       "                                          Vane_WD_87m                        \\\n",
       "                           min        var       count        max       mean   \n",
       "timestamp                                                                     \n",
       "2018-12-31 17:00:00  11.305159  15.657919         600  36.993736  23.034079   \n",
       "2018-12-31 17:10:00   3.709938  23.281769         600  34.089355  21.583694   \n",
       "2018-12-31 17:20:00   5.362070  25.907095         600  35.241886  20.046831   \n",
       "\n",
       "                                           \n",
       "                           min        var  \n",
       "timestamp                                  \n",
       "2018-12-31 17:00:00  10.439404  17.228054  \n",
       "2018-12-31 17:10:00   3.040152  25.558174  \n",
       "2018-12-31 17:20:00   2.509987  19.110186  \n",
       "\n",
       "[3 rows x 34 columns]"
      ]
     },
     "execution_count": 38,
     "metadata": {},
     "output_type": "execute_result"
    }
   ],
   "source": [
    "met = pd.read_parquet(data_path)\n",
    "met.head(1).T"
   ]
  },
  {
   "cell_type": "code",
   "execution_count": 57,
   "metadata": {},
   "outputs": [
    {
     "data": {
      "text/plain": [
       "<matplotlib.axes._subplots.AxesSubplot at 0x7fd46fbae7c0>"
      ]
     },
     "execution_count": 57,
     "metadata": {},
     "output_type": "execute_result"
    },
    {
     "data": {
      "image/png": "[encoded data removed]",
      "text/plain": [
       "<Figure size 432x288 with 1 Axes>"
      ]
     },
     "metadata": {
      "needs_background": "light"
     },
     "output_type": "display_data"
    }
   ],
   "source": [
    "met.plot.scatter(('Cup_WS_C1_105m', 'var'), ('Cup_WS_C1_105m', 'integrated_low_freq_ke'), alpha=0.1, s=1)"
   ]
  },
  {
   "cell_type": "markdown",
   "metadata": {},
   "source": [
    "From the plot above, linear regression is an obvious choice of baseline model. But first I'll do some feature engineering.\n",
    "# Feature engineering\n",
    "## Cyclic features\n",
    "There are three cyclic features here: wind direction angle, seasonal cycle, and diurnal cycle. In each case, points at the beginning and end of the data ranges are actually adjacent. These relationships can't be captured by a single dimension, so I'll convert them to 2 component dimensions with sine and cosine transforms.\n",
    "### Wind Direction (angular)\n",
    "Like temperature, there are two wind direction measurements at different heights. Again, I'll express them in terms of a reference and difference, and cast the difference in terms of a gradient wrt to height. This is NOT a linear transform due to the cyclic wrapping. I'll leave the difference as a single dimension with range (-180, 180], simply because there will rarely be differences more than 90 degrees.\n",
    "\n",
    "## Domain Specific\n",
    "To express information about wind speed vs height, I'll compute the wind shear exponent. \n",
    "\n",
    "I'll express the temperature difference in in terms of a gradient wrt height for greater portability between differently-instrumented towers. This is just a linear transform so shouldn't change any models.\n",
    "\n",
    "In a full application, I would add more domain specific features like bulk richardson number and monin-obukhov length. But the combination of wind shear, temperature gradient, and veer provide similar information.\n"
   ]
  },
  {
   "cell_type": "code",
   "execution_count": 45,
   "metadata": {
    "scrolled": true
   },
   "outputs": [],
   "source": [
    "met.loc[:, ('metrics', 'shear_exp')] = feat.power_law_shear(met.loc[:,('Cup_WS_C1_130m', 'mean')],\n",
    "                                                        met.loc[:,('Cup_WS_C1_105m', 'mean')],\n",
    "                                                        130,\n",
    "                                                        105)"
   ]
  },
  {
   "cell_type": "code",
   "execution_count": 46,
   "metadata": {},
   "outputs": [],
   "source": [
    "met.loc[:, idx['DeltaT_122_87m', 'max':]] = met.loc[:, idx['DeltaT_122_87m', 'max':]] / (122 - 87)\n",
    "met = met.rename(columns={'DeltaT_122_87m' : 'DeltaT_rate'}, level=0)"
   ]
  },
  {
   "cell_type": "code",
   "execution_count": 47,
   "metadata": {},
   "outputs": [],
   "source": [
    "subset = ['max', 'min', 'var']\n",
    "met.loc[:, idx['Vane_WD_87m', subset] = (met.loc[:, idx['Vane_WD_122m', subset]] - \n",
    "                                          met.loc[:, idx['Vane_WD_87m', subset]]) / (122 - 87)"
   ]
  },
  {
   "cell_type": "code",
   "execution_count": 47,
   "metadata": {},
   "outputs": [],
   "source": [
    "met.loc[:, idx['vane_diff', 'veer_rate':]] = feat.angular_difference(met.loc[:, idx['Vane_WD_122m', 'mean']],\n",
    "                                                                 met.loc[:, idx['Vane_WD_87m', 'mean']]) / (122 - 87)\n",
    "met = met.rename(columns={'Vane_WD_87m' : 'vane_diff'}, level=0)"
   ]
  },
  {
   "cell_type": "code",
   "execution_count": 48,
   "metadata": {},
   "outputs": [
    {
     "data": {
      "text/html": [
       "<div>\n",
       "<style scoped>\n",
       "    .dataframe tbody tr th:only-of-type {\n",
       "        vertical-align: middle;\n",
       "    }\n",
       "\n",
       "    .dataframe tbody tr th {\n",
       "        vertical-align: top;\n",
       "    }\n",
       "\n",
       "    .dataframe thead th {\n",
       "        text-align: right;\n",
       "    }\n",
       "</style>\n",
       "<table border=\"1\" class=\"dataframe\">\n",
       "  <thead>\n",
       "    <tr style=\"text-align: right;\">\n",
       "      <th></th>\n",
       "      <th>timestamp</th>\n",
       "      <th>2018-12-31 17:00:00</th>\n",
       "    </tr>\n",
       "  </thead>\n",
       "  <tbody>\n",
       "    <tr>\n",
       "      <th rowspan=\"5\" valign=\"top\">Air_Temp_87m</th>\n",
       "      <th>count</th>\n",
       "      <td>600.000000</td>\n",
       "    </tr>\n",
       "    <tr>\n",
       "      <th>max</th>\n",
       "      <td>-15.477113</td>\n",
       "    </tr>\n",
       "    <tr>\n",
       "      <th>mean</th>\n",
       "      <td>-15.691004</td>\n",
       "    </tr>\n",
       "    <tr>\n",
       "      <th>min</th>\n",
       "      <td>-15.805410</td>\n",
       "    </tr>\n",
       "    <tr>\n",
       "      <th>var</th>\n",
       "      <td>0.002746</td>\n",
       "    </tr>\n",
       "    <tr>\n",
       "      <th rowspan=\"7\" valign=\"top\">Cup_WS_C1_105m</th>\n",
       "      <th>3s_gust</th>\n",
       "      <td>8.805074</td>\n",
       "    </tr>\n",
       "    <tr>\n",
       "      <th>count</th>\n",
       "      <td>600.000000</td>\n",
       "    </tr>\n",
       "    <tr>\n",
       "      <th>integrated_low_freq_ke</th>\n",
       "      <td>0.212934</td>\n",
       "    </tr>\n",
       "    <tr>\n",
       "      <th>max</th>\n",
       "      <td>8.917205</td>\n",
       "    </tr>\n",
       "    <tr>\n",
       "      <th>mean</th>\n",
       "      <td>7.490526</td>\n",
       "    </tr>\n",
       "    <tr>\n",
       "      <th>min</th>\n",
       "      <td>5.818164</td>\n",
       "    </tr>\n",
       "    <tr>\n",
       "      <th>var</th>\n",
       "      <td>0.288631</td>\n",
       "    </tr>\n",
       "    <tr>\n",
       "      <th rowspan=\"7\" valign=\"top\">Cup_WS_C1_130m</th>\n",
       "      <th>3s_gust</th>\n",
       "      <td>8.685490</td>\n",
       "    </tr>\n",
       "    <tr>\n",
       "      <th>count</th>\n",
       "      <td>600.000000</td>\n",
       "    </tr>\n",
       "    <tr>\n",
       "      <th>integrated_low_freq_ke</th>\n",
       "      <td>0.195348</td>\n",
       "    </tr>\n",
       "    <tr>\n",
       "      <th>max</th>\n",
       "      <td>9.123878</td>\n",
       "    </tr>\n",
       "    <tr>\n",
       "      <th>mean</th>\n",
       "      <td>7.629745</td>\n",
       "    </tr>\n",
       "    <tr>\n",
       "      <th>min</th>\n",
       "      <td>6.183786</td>\n",
       "    </tr>\n",
       "    <tr>\n",
       "      <th>var</th>\n",
       "      <td>0.257707</td>\n",
       "    </tr>\n",
       "    <tr>\n",
       "      <th rowspan=\"5\" valign=\"top\">DeltaT_rate</th>\n",
       "      <th>count</th>\n",
       "      <td>600.000000</td>\n",
       "    </tr>\n",
       "    <tr>\n",
       "      <th>max</th>\n",
       "      <td>-0.007841</td>\n",
       "    </tr>\n",
       "    <tr>\n",
       "      <th>mean</th>\n",
       "      <td>-0.008698</td>\n",
       "    </tr>\n",
       "    <tr>\n",
       "      <th>min</th>\n",
       "      <td>-0.009439</td>\n",
       "    </tr>\n",
       "    <tr>\n",
       "      <th>var</th>\n",
       "      <td>0.000002</td>\n",
       "    </tr>\n",
       "    <tr>\n",
       "      <th rowspan=\"5\" valign=\"top\">Vane_WD_122m</th>\n",
       "      <th>count</th>\n",
       "      <td>600.000000</td>\n",
       "    </tr>\n",
       "    <tr>\n",
       "      <th>max</th>\n",
       "      <td>33.494221</td>\n",
       "    </tr>\n",
       "    <tr>\n",
       "      <th>mean</th>\n",
       "      <td>22.310926</td>\n",
       "    </tr>\n",
       "    <tr>\n",
       "      <th>min</th>\n",
       "      <td>11.305159</td>\n",
       "    </tr>\n",
       "    <tr>\n",
       "      <th>var</th>\n",
       "      <td>15.657919</td>\n",
       "    </tr>\n",
       "    <tr>\n",
       "      <th rowspan=\"5\" valign=\"top\">veer_rate</th>\n",
       "      <th>count</th>\n",
       "      <td>600.000000</td>\n",
       "    </tr>\n",
       "    <tr>\n",
       "      <th>max</th>\n",
       "      <td>-0.099986</td>\n",
       "    </tr>\n",
       "    <tr>\n",
       "      <th>mean</th>\n",
       "      <td>-0.020661</td>\n",
       "    </tr>\n",
       "    <tr>\n",
       "      <th>min</th>\n",
       "      <td>0.024736</td>\n",
       "    </tr>\n",
       "    <tr>\n",
       "      <th>var</th>\n",
       "      <td>-0.044861</td>\n",
       "    </tr>\n",
       "    <tr>\n",
       "      <th>metrics</th>\n",
       "      <th>shear_exp</th>\n",
       "      <td>0.086226</td>\n",
       "    </tr>\n",
       "  </tbody>\n",
       "</table>\n",
       "</div>"
      ],
      "text/plain": [
       "timestamp                              2018-12-31 17:00:00\n",
       "Air_Temp_87m   count                            600.000000\n",
       "               max                              -15.477113\n",
       "               mean                             -15.691004\n",
       "               min                              -15.805410\n",
       "               var                                0.002746\n",
       "Cup_WS_C1_105m 3s_gust                            8.805074\n",
       "               count                            600.000000\n",
       "               integrated_low_freq_ke             0.212934\n",
       "               max                                8.917205\n",
       "               mean                               7.490526\n",
       "               min                                5.818164\n",
       "               var                                0.288631\n",
       "Cup_WS_C1_130m 3s_gust                            8.685490\n",
       "               count                            600.000000\n",
       "               integrated_low_freq_ke             0.195348\n",
       "               max                                9.123878\n",
       "               mean                               7.629745\n",
       "               min                                6.183786\n",
       "               var                                0.257707\n",
       "DeltaT_rate    count                            600.000000\n",
       "               max                               -0.007841\n",
       "               mean                              -0.008698\n",
       "               min                               -0.009439\n",
       "               var                                0.000002\n",
       "Vane_WD_122m   count                            600.000000\n",
       "               max                               33.494221\n",
       "               mean                              22.310926\n",
       "               min                               11.305159\n",
       "               var                               15.657919\n",
       "veer_rate      count                            600.000000\n",
       "               max                               -0.099986\n",
       "               mean                              -0.020661\n",
       "               min                                0.024736\n",
       "               var                               -0.044861\n",
       "metrics        shear_exp                          0.086226"
      ]
     },
     "execution_count": 48,
     "metadata": {},
     "output_type": "execute_result"
    }
   ],
   "source": [
    "met.head(1).T"
   ]
  },
  {
   "cell_type": "markdown",
   "metadata": {},
   "source": [
    "# Complete Case Analysis\n",
    "I'll drop rows where data availability was poor"
   ]
  },
  {
   "cell_type": "code",
   "execution_count": 52,
   "metadata": {},
   "outputs": [
    {
     "data": {
      "text/plain": [
       "(52560, 49332)"
      ]
     },
     "execution_count": 52,
     "metadata": {},
     "output_type": "execute_result"
    }
   ],
   "source": [
    "len(met)"
   ]
  },
  {
   "cell_type": "code",
   "execution_count": 55,
   "metadata": {},
   "outputs": [
    {
     "data": {
      "text/plain": [
       "48653"
      ]
     },
     "execution_count": 55,
     "metadata": {},
     "output_type": "execute_result"
    }
   ],
   "source": [
    "threshold = 0.8\n",
    "mask = met.loc[:, idx[:, 'count']].min(axis=1) >= (threshold * 600)\n",
    "met = met.loc[mask,:].dropna()\n",
    "len(met)"
   ]
  },
  {
   "cell_type": "code",
   "execution_count": null,
   "metadata": {},
   "outputs": [],
   "source": []
  },
  {
   "cell_type": "markdown",
   "metadata": {},
   "source": [
    "# Baseline - linear regression"
   ]
  },
  {
   "cell_type": "code",
   "execution_count": 51,
   "metadata": {},
   "outputs": [],
   "source": [
    "from sklearn.linear_model import LinearRegression\n",
    "\n"
   ]
  }
 ],
 "metadata": {
  "kernelspec": {
   "display_name": "Python 3",
   "language": "python",
   "name": "python3"
  },
  "language_info": {
   "codemirror_mode": {
    "name": "ipython",
    "version": 3
   },
   "file_extension": ".py",
   "mimetype": "text/x-python",
   "name": "python",
   "nbconvert_exporter": "python",
   "pygments_lexer": "ipython3",
   "version": "3.8.2"
  },
  "toc": {
   "base_numbering": 1,
   "nav_menu": {},
   "number_sections": true,
   "sideBar": true,
   "skip_h1_title": false,
   "title_cell": "Table of Contents",
   "title_sidebar": "Contents",
   "toc_cell": false,
   "toc_position": {},
   "toc_section_display": true,
   "toc_window_display": false
  },
  "varInspector": {
   "cols": {
    "lenName": 16,
    "lenType": 16,
    "lenVar": 40
   },
   "kernels_config": {
    "python": {
     "delete_cmd_postfix": "",
     "delete_cmd_prefix": "del ",
     "library": "var_list.py",
     "varRefreshCmd": "print(var_dic_list())"
    },
    "r": {
     "delete_cmd_postfix": ") ",
     "delete_cmd_prefix": "rm(",
     "library": "var_list.r",
     "varRefreshCmd": "cat(var_dic_list()) "
    }
   },
   "types_to_exclude": [
    "module",
    "function",
    "builtin_function_or_method",
    "instance",
    "_Feature"
   ],
   "window_display": false
  }
 },
 "nbformat": 4,
 "nbformat_minor": 4
}
