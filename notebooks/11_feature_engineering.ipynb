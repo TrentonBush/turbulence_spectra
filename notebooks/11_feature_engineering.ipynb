{
 "cells": [
  {
   "cell_type": "code",
   "execution_count": 1,
   "metadata": {},
   "outputs": [],
   "source": [
    "import pandas as pd\n",
    "import numpy as np\n",
    "from pathlib import Path\n",
    "\n",
    "from src.models.buffered_cv import BufferedBlockedSplit\n",
    "import src.features.build_features as feat\n",
    "\n",
    "idx = pd.IndexSlice"
   ]
  },
  {
   "cell_type": "code",
   "execution_count": 2,
   "metadata": {},
   "outputs": [],
   "source": [
    "data_path = Path('../data/processed/cup_10_min_aggs.parquet')\n",
    "assert data_path.exists()"
   ]
  },
  {
   "cell_type": "code",
   "execution_count": 3,
   "metadata": {},
   "outputs": [
    {
     "data": {
      "text/html": [
       "<div>\n",
       "<style scoped>\n",
       "    .dataframe tbody tr th:only-of-type {\n",
       "        vertical-align: middle;\n",
       "    }\n",
       "\n",
       "    .dataframe tbody tr th {\n",
       "        vertical-align: top;\n",
       "    }\n",
       "\n",
       "    .dataframe thead th {\n",
       "        text-align: right;\n",
       "    }\n",
       "</style>\n",
       "<table border=\"1\" class=\"dataframe\">\n",
       "  <thead>\n",
       "    <tr style=\"text-align: right;\">\n",
       "      <th></th>\n",
       "      <th>timestamp</th>\n",
       "      <th>2018-12-31 17:00:00</th>\n",
       "    </tr>\n",
       "  </thead>\n",
       "  <tbody>\n",
       "    <tr>\n",
       "      <th rowspan=\"5\" valign=\"top\">Air_Temp_87m</th>\n",
       "      <th>count</th>\n",
       "      <td>600.000000</td>\n",
       "    </tr>\n",
       "    <tr>\n",
       "      <th>max</th>\n",
       "      <td>-15.477113</td>\n",
       "    </tr>\n",
       "    <tr>\n",
       "      <th>mean</th>\n",
       "      <td>-15.691004</td>\n",
       "    </tr>\n",
       "    <tr>\n",
       "      <th>min</th>\n",
       "      <td>-15.805410</td>\n",
       "    </tr>\n",
       "    <tr>\n",
       "      <th>var</th>\n",
       "      <td>0.002746</td>\n",
       "    </tr>\n",
       "    <tr>\n",
       "      <th rowspan=\"7\" valign=\"top\">Cup_WS_C1_105m</th>\n",
       "      <th>3s_gust</th>\n",
       "      <td>8.805074</td>\n",
       "    </tr>\n",
       "    <tr>\n",
       "      <th>count</th>\n",
       "      <td>600.000000</td>\n",
       "    </tr>\n",
       "    <tr>\n",
       "      <th>integrated_low_freq_ke</th>\n",
       "      <td>0.212934</td>\n",
       "    </tr>\n",
       "    <tr>\n",
       "      <th>max</th>\n",
       "      <td>8.917205</td>\n",
       "    </tr>\n",
       "    <tr>\n",
       "      <th>mean</th>\n",
       "      <td>7.490526</td>\n",
       "    </tr>\n",
       "    <tr>\n",
       "      <th>min</th>\n",
       "      <td>5.818164</td>\n",
       "    </tr>\n",
       "    <tr>\n",
       "      <th>var</th>\n",
       "      <td>0.288631</td>\n",
       "    </tr>\n",
       "    <tr>\n",
       "      <th rowspan=\"7\" valign=\"top\">Cup_WS_C1_130m</th>\n",
       "      <th>3s_gust</th>\n",
       "      <td>8.685490</td>\n",
       "    </tr>\n",
       "    <tr>\n",
       "      <th>count</th>\n",
       "      <td>600.000000</td>\n",
       "    </tr>\n",
       "    <tr>\n",
       "      <th>integrated_low_freq_ke</th>\n",
       "      <td>0.195348</td>\n",
       "    </tr>\n",
       "    <tr>\n",
       "      <th>max</th>\n",
       "      <td>9.123878</td>\n",
       "    </tr>\n",
       "    <tr>\n",
       "      <th>mean</th>\n",
       "      <td>7.629745</td>\n",
       "    </tr>\n",
       "    <tr>\n",
       "      <th>min</th>\n",
       "      <td>6.183786</td>\n",
       "    </tr>\n",
       "    <tr>\n",
       "      <th>var</th>\n",
       "      <td>0.257707</td>\n",
       "    </tr>\n",
       "    <tr>\n",
       "      <th rowspan=\"5\" valign=\"top\">DeltaT_122_87m</th>\n",
       "      <th>count</th>\n",
       "      <td>600.000000</td>\n",
       "    </tr>\n",
       "    <tr>\n",
       "      <th>max</th>\n",
       "      <td>-0.274433</td>\n",
       "    </tr>\n",
       "    <tr>\n",
       "      <th>mean</th>\n",
       "      <td>-0.304441</td>\n",
       "    </tr>\n",
       "    <tr>\n",
       "      <th>min</th>\n",
       "      <td>-0.330359</td>\n",
       "    </tr>\n",
       "    <tr>\n",
       "      <th>var</th>\n",
       "      <td>0.000068</td>\n",
       "    </tr>\n",
       "    <tr>\n",
       "      <th rowspan=\"5\" valign=\"top\">Vane_WD_122m</th>\n",
       "      <th>count</th>\n",
       "      <td>600.000000</td>\n",
       "    </tr>\n",
       "    <tr>\n",
       "      <th>max</th>\n",
       "      <td>33.494219</td>\n",
       "    </tr>\n",
       "    <tr>\n",
       "      <th>mean</th>\n",
       "      <td>22.310701</td>\n",
       "    </tr>\n",
       "    <tr>\n",
       "      <th>min</th>\n",
       "      <td>11.305162</td>\n",
       "    </tr>\n",
       "    <tr>\n",
       "      <th>var</th>\n",
       "      <td>15.631823</td>\n",
       "    </tr>\n",
       "    <tr>\n",
       "      <th rowspan=\"5\" valign=\"top\">Vane_WD_87m</th>\n",
       "      <th>count</th>\n",
       "      <td>600.000000</td>\n",
       "    </tr>\n",
       "    <tr>\n",
       "      <th>max</th>\n",
       "      <td>36.993735</td>\n",
       "    </tr>\n",
       "    <tr>\n",
       "      <th>mean</th>\n",
       "      <td>23.033820</td>\n",
       "    </tr>\n",
       "    <tr>\n",
       "      <th>min</th>\n",
       "      <td>10.439399</td>\n",
       "    </tr>\n",
       "    <tr>\n",
       "      <th>var</th>\n",
       "      <td>17.199339</td>\n",
       "    </tr>\n",
       "  </tbody>\n",
       "</table>\n",
       "</div>"
      ],
      "text/plain": [
       "timestamp                              2018-12-31 17:00:00\n",
       "Air_Temp_87m   count                            600.000000\n",
       "               max                              -15.477113\n",
       "               mean                             -15.691004\n",
       "               min                              -15.805410\n",
       "               var                                0.002746\n",
       "Cup_WS_C1_105m 3s_gust                            8.805074\n",
       "               count                            600.000000\n",
       "               integrated_low_freq_ke             0.212934\n",
       "               max                                8.917205\n",
       "               mean                               7.490526\n",
       "               min                                5.818164\n",
       "               var                                0.288631\n",
       "Cup_WS_C1_130m 3s_gust                            8.685490\n",
       "               count                            600.000000\n",
       "               integrated_low_freq_ke             0.195348\n",
       "               max                                9.123878\n",
       "               mean                               7.629745\n",
       "               min                                6.183786\n",
       "               var                                0.257707\n",
       "DeltaT_122_87m count                            600.000000\n",
       "               max                               -0.274433\n",
       "               mean                              -0.304441\n",
       "               min                               -0.330359\n",
       "               var                                0.000068\n",
       "Vane_WD_122m   count                            600.000000\n",
       "               max                               33.494219\n",
       "               mean                              22.310701\n",
       "               min                               11.305162\n",
       "               var                               15.631823\n",
       "Vane_WD_87m    count                            600.000000\n",
       "               max                               36.993735\n",
       "               mean                              23.033820\n",
       "               min                               10.439399\n",
       "               var                               17.199339"
      ]
     },
     "execution_count": 3,
     "metadata": {},
     "output_type": "execute_result"
    }
   ],
   "source": [
    "met = pd.read_parquet(data_path)\n",
    "met.head(1).T"
   ]
  },
  {
   "cell_type": "code",
   "execution_count": 4,
   "metadata": {},
   "outputs": [
    {
     "data": {
      "text/plain": [
       "<matplotlib.axes._subplots.AxesSubplot at 0x7fbd43045100>"
      ]
     },
     "execution_count": 4,
     "metadata": {},
     "output_type": "execute_result"
    },
    {
     "data": {
      "image/png": "[encoded data removed]",
      "text/plain": [
       "<Figure size 432x288 with 1 Axes>"
      ]
     },
     "metadata": {
      "needs_background": "light"
     },
     "output_type": "display_data"
    }
   ],
   "source": [
    "met.plot.scatter(('Cup_WS_C1_105m', 'var'), ('Cup_WS_C1_105m', 'integrated_low_freq_ke'), alpha=0.1, s=1)"
   ]
  },
  {
   "cell_type": "markdown",
   "metadata": {},
   "source": [
    "From the plot above, linear regression is an obvious choice of baseline model. But first I'll do some feature engineering.\n",
    "# Feature engineering\n",
    "## Cyclic features\n",
    "There are three cyclic features here: wind direction (angle), time of year (seasonal cycle), and time of day (diurnal cycle). In each case, points at the beginning and end of the data ranges are actually adjacent: 0 degrees is close to 359 degreees, January is close to December, and 00:01 is close to 23:59. These cyclic relationships can't be captured by a single dimension, so I'll convert them to 2 component dimensions with sine and cosine transforms.\n",
    "### Time of Year\n",
    "Of course the calendar itself is not causal - time of year is a proxy for the earth's axial tilt and associated seasonality effects.\n",
    "\n",
    "Time of year may not add much predictive value for this use case because of the single year of data and blocked CV schema. This means large chunks of a season will be held out, forcing the model to perform long-range interpolation or even extrapolation, hurting performance. But I think it is still a preferred outcome to the non-blocked alternative: overconfident CV due to data leakage from autocorrelation.\n",
    "### Time of Day\n",
    "Like time of year, time of day is a proxy variable for a separate causal mechanism: incident solar radiation and associated processes."
   ]
  },
  {
   "cell_type": "code",
   "execution_count": 37,
   "metadata": {},
   "outputs": [],
   "source": [
    "minute_of_day = met.index.hour * 60 + met.index.minute\n",
    "minute_of_year = (met.index.dayofyear - 1) * 60 * 24 + minute_of_day # dayofyear starts at 1; shift -1 to zero-index\n",
    "# scale to radians\n",
    "minute_of_day *= 2 * np.pi / (24 * 60)\n",
    "minute_of_year *= 2 * np.pi / (365 * 24 * 60) # data is from 2019 so I'll ignore leap years"
   ]
  },
  {
   "cell_type": "code",
   "execution_count": 38,
   "metadata": {},
   "outputs": [
    {
     "data": {
      "text/plain": [
       "(0.0, 6.239552075879728, 0.0, 6.283065764080135)"
      ]
     },
     "execution_count": 38,
     "metadata": {},
     "output_type": "execute_result"
    }
   ],
   "source": [
    "# check. Maxes are different due to different resolutions\n",
    "# 144 10 minute periods per day, 52560 10 min periods per year\n",
    "minute_of_day.min(), minute_of_day.max(), minute_of_year.min(), minute_of_year.max()"
   ]
  },
  {
   "cell_type": "code",
   "execution_count": 39,
   "metadata": {},
   "outputs": [],
   "source": [
    "met.loc[:, ('derived', 'season_sin')] = np.sin(minute_of_year)\n",
    "met.loc[:, ('derived', 'season_cos')] = np.cos(minute_of_year)\n",
    "met.loc[:, ('derived', 'day_sin')] = np.sin(minute_of_day)\n",
    "met.loc[:, ('derived', 'day_cos')] = np.cos(minute_of_day)"
   ]
  },
  {
   "cell_type": "markdown",
   "metadata": {},
   "source": [
    "### Wind Direction\n",
    "There are two wind direction measurements at different heights. Rather than using two highly correlated features (4 after sine/cosine transform), I'll express them in terms of a reference direction and the difference between them (called veer). Furthermore, I'll cast the difference in terms of a gradient wrt to height, for greater feature portability between differently-instrumented towers. I'll leave the difference as a single dimension with range (-180, 180], simply because there will rarely be differences more than 90 degrees, so cyclic wrapping is less of a concern.\n",
    "\n",
    "Finally, I could save a dimension and combine wind speed with sin/cos transforms of wind direction, creating vector components. But speed is such a critical feature that I think it's worth leaving separate. It is easier to interpret and to combine with the other aggregate features based on magnitude: min, max, 3s_gust, and var."
   ]
  },
  {
   "cell_type": "code",
   "execution_count": 40,
   "metadata": {},
   "outputs": [],
   "source": [
    "# gradients wrt height\n",
    "subset = ['max', 'min', 'var']\n",
    "met.loc[:, idx['Vane_WD_122m', subset]] = (met.loc[:, idx['Vane_WD_122m', subset]] - \n",
    "                                          met.loc[:, idx['Vane_WD_87m', subset]]) / (122 - 87)\n",
    "met.loc[:, idx['Vane_WD_122m', 'veer_rate']] = feat.angular_difference(met.loc[:, idx['Vane_WD_122m', 'mean']],\n",
    "                                                                 met.loc[:, idx['Vane_WD_87m', 'mean']]) / (122 - 87)\n",
    "met = met.rename(columns={'Vane_WD_122m' : 'vane_diff'}, level=0)"
   ]
  },
  {
   "cell_type": "code",
   "execution_count": null,
   "metadata": {},
   "outputs": [],
   "source": [
    "met.loc[:, ('derived', 'dir_87_sin')] = np.sin(minute_of_year)\n",
    "met.loc[:, ('derived', 'dir_87_cos')] = np.cos(minute_of_year)"
   ]
  },
  {
   "cell_type": "code",
   "execution_count": 42,
   "metadata": {},
   "outputs": [
    {
     "data": {
      "text/plain": [
       "<matplotlib.axes._subplots.AxesSubplot at 0x7fda2340eaf0>"
      ]
     },
     "execution_count": 42,
     "metadata": {},
     "output_type": "execute_result"
    },
    {
     "data": {
      "image/png": "[encoded data removed]",
      "text/plain": [
       "<Figure size 432x288 with 1 Axes>"
      ]
     },
     "metadata": {
      "needs_background": "light"
     },
     "output_type": "display_data"
    }
   ],
   "source": [
    "met.plot.scatter(('Vane_WD_87m', 'mean'), ('Vane_WD_87m', 'var'), alpha=0.1, s=1)"
   ]
  },
  {
   "cell_type": "markdown",
   "metadata": {},
   "source": [
    "## Domain Specific Features\n",
    "In a full application, I would add more domain specific features like bulk richardson number and monin-obukhov length. But the combination of wind shear, temperature gradient, and directional veer provide similar information.\n",
    "\n",
    "To express information about wind speed vs height, I'll compute the wind shear exponent. \n",
    "\n",
    "Like wind direction, I'll express the two temperature measurements in terms of a reference and difference, with the difference as a gradient wrt height. This is just a linear transform so shouldn't change much in the models; the purpose is to make the same features applicable to other towers that have sensors in different places."
   ]
  },
  {
   "cell_type": "code",
   "execution_count": 45,
   "metadata": {
    "scrolled": true
   },
   "outputs": [],
   "source": [
    "met.loc[:, ('derived', 'shear_exp')] = feat.power_law_shear(met.loc[:,('Cup_WS_C1_130m', 'mean')],\n",
    "                                                        met.loc[:,('Cup_WS_C1_105m', 'mean')],\n",
    "                                                        130,\n",
    "                                                        105)"
   ]
  },
  {
   "cell_type": "code",
   "execution_count": 46,
   "metadata": {},
   "outputs": [],
   "source": [
    "met.loc[:, idx['DeltaT_122_87m', 'max':]] = met.loc[:, idx['DeltaT_122_87m', 'max':]] / (122 - 87)\n",
    "met = met.rename(columns={'DeltaT_122_87m' : 'DeltaT_rate'}, level=0)"
   ]
  },
  {
   "cell_type": "code",
   "execution_count": 48,
   "metadata": {},
   "outputs": [
    {
     "data": {
      "text/html": [
       "<div>\n",
       "<style scoped>\n",
       "    .dataframe tbody tr th:only-of-type {\n",
       "        vertical-align: middle;\n",
       "    }\n",
       "\n",
       "    .dataframe tbody tr th {\n",
       "        vertical-align: top;\n",
       "    }\n",
       "\n",
       "    .dataframe thead th {\n",
       "        text-align: right;\n",
       "    }\n",
       "</style>\n",
       "<table border=\"1\" class=\"dataframe\">\n",
       "  <thead>\n",
       "    <tr style=\"text-align: right;\">\n",
       "      <th></th>\n",
       "      <th>timestamp</th>\n",
       "      <th>2018-12-31 17:00:00</th>\n",
       "    </tr>\n",
       "  </thead>\n",
       "  <tbody>\n",
       "    <tr>\n",
       "      <th rowspan=\"5\" valign=\"top\">Air_Temp_87m</th>\n",
       "      <th>count</th>\n",
       "      <td>600.000000</td>\n",
       "    </tr>\n",
       "    <tr>\n",
       "      <th>max</th>\n",
       "      <td>-15.477113</td>\n",
       "    </tr>\n",
       "    <tr>\n",
       "      <th>mean</th>\n",
       "      <td>-15.691004</td>\n",
       "    </tr>\n",
       "    <tr>\n",
       "      <th>min</th>\n",
       "      <td>-15.805410</td>\n",
       "    </tr>\n",
       "    <tr>\n",
       "      <th>var</th>\n",
       "      <td>0.002746</td>\n",
       "    </tr>\n",
       "    <tr>\n",
       "      <th rowspan=\"7\" valign=\"top\">Cup_WS_C1_105m</th>\n",
       "      <th>3s_gust</th>\n",
       "      <td>8.805074</td>\n",
       "    </tr>\n",
       "    <tr>\n",
       "      <th>count</th>\n",
       "      <td>600.000000</td>\n",
       "    </tr>\n",
       "    <tr>\n",
       "      <th>integrated_low_freq_ke</th>\n",
       "      <td>0.212934</td>\n",
       "    </tr>\n",
       "    <tr>\n",
       "      <th>max</th>\n",
       "      <td>8.917205</td>\n",
       "    </tr>\n",
       "    <tr>\n",
       "      <th>mean</th>\n",
       "      <td>7.490526</td>\n",
       "    </tr>\n",
       "    <tr>\n",
       "      <th>min</th>\n",
       "      <td>5.818164</td>\n",
       "    </tr>\n",
       "    <tr>\n",
       "      <th>var</th>\n",
       "      <td>0.288631</td>\n",
       "    </tr>\n",
       "    <tr>\n",
       "      <th rowspan=\"7\" valign=\"top\">Cup_WS_C1_130m</th>\n",
       "      <th>3s_gust</th>\n",
       "      <td>8.685490</td>\n",
       "    </tr>\n",
       "    <tr>\n",
       "      <th>count</th>\n",
       "      <td>600.000000</td>\n",
       "    </tr>\n",
       "    <tr>\n",
       "      <th>integrated_low_freq_ke</th>\n",
       "      <td>0.195348</td>\n",
       "    </tr>\n",
       "    <tr>\n",
       "      <th>max</th>\n",
       "      <td>9.123878</td>\n",
       "    </tr>\n",
       "    <tr>\n",
       "      <th>mean</th>\n",
       "      <td>7.629745</td>\n",
       "    </tr>\n",
       "    <tr>\n",
       "      <th>min</th>\n",
       "      <td>6.183786</td>\n",
       "    </tr>\n",
       "    <tr>\n",
       "      <th>var</th>\n",
       "      <td>0.257707</td>\n",
       "    </tr>\n",
       "    <tr>\n",
       "      <th rowspan=\"5\" valign=\"top\">DeltaT_rate</th>\n",
       "      <th>count</th>\n",
       "      <td>600.000000</td>\n",
       "    </tr>\n",
       "    <tr>\n",
       "      <th>max</th>\n",
       "      <td>-0.007841</td>\n",
       "    </tr>\n",
       "    <tr>\n",
       "      <th>mean</th>\n",
       "      <td>-0.008698</td>\n",
       "    </tr>\n",
       "    <tr>\n",
       "      <th>min</th>\n",
       "      <td>-0.009439</td>\n",
       "    </tr>\n",
       "    <tr>\n",
       "      <th>var</th>\n",
       "      <td>0.000002</td>\n",
       "    </tr>\n",
       "    <tr>\n",
       "      <th rowspan=\"5\" valign=\"top\">Vane_WD_122m</th>\n",
       "      <th>count</th>\n",
       "      <td>600.000000</td>\n",
       "    </tr>\n",
       "    <tr>\n",
       "      <th>max</th>\n",
       "      <td>33.494221</td>\n",
       "    </tr>\n",
       "    <tr>\n",
       "      <th>mean</th>\n",
       "      <td>22.310926</td>\n",
       "    </tr>\n",
       "    <tr>\n",
       "      <th>min</th>\n",
       "      <td>11.305159</td>\n",
       "    </tr>\n",
       "    <tr>\n",
       "      <th>var</th>\n",
       "      <td>15.657919</td>\n",
       "    </tr>\n",
       "    <tr>\n",
       "      <th rowspan=\"5\" valign=\"top\">veer_rate</th>\n",
       "      <th>count</th>\n",
       "      <td>600.000000</td>\n",
       "    </tr>\n",
       "    <tr>\n",
       "      <th>max</th>\n",
       "      <td>-0.099986</td>\n",
       "    </tr>\n",
       "    <tr>\n",
       "      <th>mean</th>\n",
       "      <td>-0.020661</td>\n",
       "    </tr>\n",
       "    <tr>\n",
       "      <th>min</th>\n",
       "      <td>0.024736</td>\n",
       "    </tr>\n",
       "    <tr>\n",
       "      <th>var</th>\n",
       "      <td>-0.044861</td>\n",
       "    </tr>\n",
       "    <tr>\n",
       "      <th>metrics</th>\n",
       "      <th>shear_exp</th>\n",
       "      <td>0.086226</td>\n",
       "    </tr>\n",
       "  </tbody>\n",
       "</table>\n",
       "</div>"
      ],
      "text/plain": [
       "timestamp                              2018-12-31 17:00:00\n",
       "Air_Temp_87m   count                            600.000000\n",
       "               max                              -15.477113\n",
       "               mean                             -15.691004\n",
       "               min                              -15.805410\n",
       "               var                                0.002746\n",
       "Cup_WS_C1_105m 3s_gust                            8.805074\n",
       "               count                            600.000000\n",
       "               integrated_low_freq_ke             0.212934\n",
       "               max                                8.917205\n",
       "               mean                               7.490526\n",
       "               min                                5.818164\n",
       "               var                                0.288631\n",
       "Cup_WS_C1_130m 3s_gust                            8.685490\n",
       "               count                            600.000000\n",
       "               integrated_low_freq_ke             0.195348\n",
       "               max                                9.123878\n",
       "               mean                               7.629745\n",
       "               min                                6.183786\n",
       "               var                                0.257707\n",
       "DeltaT_rate    count                            600.000000\n",
       "               max                               -0.007841\n",
       "               mean                              -0.008698\n",
       "               min                               -0.009439\n",
       "               var                                0.000002\n",
       "Vane_WD_122m   count                            600.000000\n",
       "               max                               33.494221\n",
       "               mean                              22.310926\n",
       "               min                               11.305159\n",
       "               var                               15.657919\n",
       "veer_rate      count                            600.000000\n",
       "               max                               -0.099986\n",
       "               mean                              -0.020661\n",
       "               min                                0.024736\n",
       "               var                               -0.044861\n",
       "metrics        shear_exp                          0.086226"
      ]
     },
     "execution_count": 48,
     "metadata": {},
     "output_type": "execute_result"
    }
   ],
   "source": [
    "met.head(1).T"
   ]
  },
  {
   "cell_type": "markdown",
   "metadata": {},
   "source": [
    "# Complete Case Analysis\n",
    "I'll drop rows where data availability was poor"
   ]
  },
  {
   "cell_type": "code",
   "execution_count": 52,
   "metadata": {},
   "outputs": [
    {
     "data": {
      "text/plain": [
       "(52560, 49332)"
      ]
     },
     "execution_count": 52,
     "metadata": {},
     "output_type": "execute_result"
    }
   ],
   "source": [
    "len(met)"
   ]
  },
  {
   "cell_type": "code",
   "execution_count": 55,
   "metadata": {},
   "outputs": [
    {
     "data": {
      "text/plain": [
       "48653"
      ]
     },
     "execution_count": 55,
     "metadata": {},
     "output_type": "execute_result"
    }
   ],
   "source": [
    "threshold = 0.8\n",
    "mask = met.loc[:, idx[:, 'count']].min(axis=1) >= (threshold * 600)\n",
    "met = met.loc[mask,:].dropna()\n",
    "len(met)"
   ]
  },
  {
   "cell_type": "code",
   "execution_count": null,
   "metadata": {},
   "outputs": [],
   "source": []
  },
  {
   "cell_type": "markdown",
   "metadata": {},
   "source": [
    "# Baseline - linear regression"
   ]
  },
  {
   "cell_type": "code",
   "execution_count": 51,
   "metadata": {},
   "outputs": [],
   "source": [
    "from sklearn.linear_model import LinearRegression\n",
    "\n"
   ]
  },
  {
   "cell_type": "code",
   "execution_count": null,
   "metadata": {},
   "outputs": [],
   "source": []
  }
 ],
 "metadata": {
  "kernelspec": {
   "display_name": "Python 3",
   "language": "python",
   "name": "python3"
  },
  "language_info": {
   "codemirror_mode": {
    "name": "ipython",
    "version": 3
   },
   "file_extension": ".py",
   "mimetype": "text/x-python",
   "name": "python",
   "nbconvert_exporter": "python",
   "pygments_lexer": "ipython3",
   "version": "3.8.6"
  },
  "toc": {
   "base_numbering": 1,
   "nav_menu": {},
   "number_sections": true,
   "sideBar": true,
   "skip_h1_title": false,
   "title_cell": "Table of Contents",
   "title_sidebar": "Contents",
   "toc_cell": false,
   "toc_position": {},
   "toc_section_display": true,
   "toc_window_display": false
  },
  "varInspector": {
   "cols": {
    "lenName": 16,
    "lenType": 16,
    "lenVar": 40
   },
   "kernels_config": {
    "python": {
     "delete_cmd_postfix": "",
     "delete_cmd_prefix": "del ",
     "library": "var_list.py",
     "varRefreshCmd": "print(var_dic_list())"
    },
    "r": {
     "delete_cmd_postfix": ") ",
     "delete_cmd_prefix": "rm(",
     "library": "var_list.r",
     "varRefreshCmd": "cat(var_dic_list()) "
    }
   },
   "types_to_exclude": [
    "module",
    "function",
    "builtin_function_or_method",
    "instance",
    "_Feature"
   ],
   "window_display": false
  }
 },
 "nbformat": 4,
 "nbformat_minor": 4
}
