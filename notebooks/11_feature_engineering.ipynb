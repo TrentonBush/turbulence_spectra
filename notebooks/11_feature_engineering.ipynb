{
 "cells": [
  {
   "cell_type": "code",
   "execution_count": 115,
   "metadata": {},
   "outputs": [],
   "source": [
    "import pandas as pd\n",
    "import numpy as np\n",
    "from pathlib import Path\n",
    "\n",
    "import src.features.build_features as feat\n",
    "\n",
    "idx = pd.IndexSlice"
   ]
  },
  {
   "cell_type": "markdown",
   "metadata": {},
   "source": [
    "# Feature engineering\n",
    "To reiterate, the aggregate metrics I have to work with are inherited from data loggers outside my control. I would define different aggregates (or not even aggregate at all) if it were up to me. The following features are attempts to glean the most information out of the available metrics."
   ]
  },
  {
   "cell_type": "code",
   "execution_count": 116,
   "metadata": {},
   "outputs": [],
   "source": [
    "data_path = Path('../data/processed/cup_10_min_aggs.parquet')\n",
    "assert data_path.exists()"
   ]
  },
  {
   "cell_type": "code",
   "execution_count": 117,
   "metadata": {},
   "outputs": [
    {
     "data": {
      "text/html": [
       "<div>\n",
       "<style scoped>\n",
       "    .dataframe tbody tr th:only-of-type {\n",
       "        vertical-align: middle;\n",
       "    }\n",
       "\n",
       "    .dataframe tbody tr th {\n",
       "        vertical-align: top;\n",
       "    }\n",
       "\n",
       "    .dataframe thead th {\n",
       "        text-align: right;\n",
       "    }\n",
       "</style>\n",
       "<table border=\"1\" class=\"dataframe\">\n",
       "  <thead>\n",
       "    <tr style=\"text-align: right;\">\n",
       "      <th></th>\n",
       "      <th>timestamp</th>\n",
       "      <th>2018-12-31 17:00:00</th>\n",
       "    </tr>\n",
       "  </thead>\n",
       "  <tbody>\n",
       "    <tr>\n",
       "      <th rowspan=\"5\" valign=\"top\">Air_Temp_87m</th>\n",
       "      <th>count</th>\n",
       "      <td>600.000000</td>\n",
       "    </tr>\n",
       "    <tr>\n",
       "      <th>max</th>\n",
       "      <td>-15.477113</td>\n",
       "    </tr>\n",
       "    <tr>\n",
       "      <th>mean</th>\n",
       "      <td>-15.691004</td>\n",
       "    </tr>\n",
       "    <tr>\n",
       "      <th>min</th>\n",
       "      <td>-15.805410</td>\n",
       "    </tr>\n",
       "    <tr>\n",
       "      <th>var</th>\n",
       "      <td>0.002746</td>\n",
       "    </tr>\n",
       "    <tr>\n",
       "      <th rowspan=\"7\" valign=\"top\">Cup_WS_C1_105m</th>\n",
       "      <th>3s_gust</th>\n",
       "      <td>8.805074</td>\n",
       "    </tr>\n",
       "    <tr>\n",
       "      <th>count</th>\n",
       "      <td>600.000000</td>\n",
       "    </tr>\n",
       "    <tr>\n",
       "      <th>integrated_low_freq_ke</th>\n",
       "      <td>0.212934</td>\n",
       "    </tr>\n",
       "    <tr>\n",
       "      <th>max</th>\n",
       "      <td>8.917205</td>\n",
       "    </tr>\n",
       "    <tr>\n",
       "      <th>mean</th>\n",
       "      <td>7.490526</td>\n",
       "    </tr>\n",
       "    <tr>\n",
       "      <th>min</th>\n",
       "      <td>5.818164</td>\n",
       "    </tr>\n",
       "    <tr>\n",
       "      <th>var</th>\n",
       "      <td>0.288631</td>\n",
       "    </tr>\n",
       "    <tr>\n",
       "      <th rowspan=\"7\" valign=\"top\">Cup_WS_C1_130m</th>\n",
       "      <th>3s_gust</th>\n",
       "      <td>8.685490</td>\n",
       "    </tr>\n",
       "    <tr>\n",
       "      <th>count</th>\n",
       "      <td>600.000000</td>\n",
       "    </tr>\n",
       "    <tr>\n",
       "      <th>integrated_low_freq_ke</th>\n",
       "      <td>0.195348</td>\n",
       "    </tr>\n",
       "    <tr>\n",
       "      <th>max</th>\n",
       "      <td>9.123878</td>\n",
       "    </tr>\n",
       "    <tr>\n",
       "      <th>mean</th>\n",
       "      <td>7.629745</td>\n",
       "    </tr>\n",
       "    <tr>\n",
       "      <th>min</th>\n",
       "      <td>6.183786</td>\n",
       "    </tr>\n",
       "    <tr>\n",
       "      <th>var</th>\n",
       "      <td>0.257707</td>\n",
       "    </tr>\n",
       "    <tr>\n",
       "      <th rowspan=\"5\" valign=\"top\">DeltaT_122_87m</th>\n",
       "      <th>count</th>\n",
       "      <td>600.000000</td>\n",
       "    </tr>\n",
       "    <tr>\n",
       "      <th>max</th>\n",
       "      <td>-0.274433</td>\n",
       "    </tr>\n",
       "    <tr>\n",
       "      <th>mean</th>\n",
       "      <td>-0.304441</td>\n",
       "    </tr>\n",
       "    <tr>\n",
       "      <th>min</th>\n",
       "      <td>-0.330359</td>\n",
       "    </tr>\n",
       "    <tr>\n",
       "      <th>var</th>\n",
       "      <td>0.000068</td>\n",
       "    </tr>\n",
       "    <tr>\n",
       "      <th rowspan=\"5\" valign=\"top\">Vane_WD_122m</th>\n",
       "      <th>count</th>\n",
       "      <td>600.000000</td>\n",
       "    </tr>\n",
       "    <tr>\n",
       "      <th>max</th>\n",
       "      <td>33.494219</td>\n",
       "    </tr>\n",
       "    <tr>\n",
       "      <th>mean</th>\n",
       "      <td>22.310701</td>\n",
       "    </tr>\n",
       "    <tr>\n",
       "      <th>min</th>\n",
       "      <td>11.305162</td>\n",
       "    </tr>\n",
       "    <tr>\n",
       "      <th>var</th>\n",
       "      <td>15.631823</td>\n",
       "    </tr>\n",
       "    <tr>\n",
       "      <th rowspan=\"5\" valign=\"top\">Vane_WD_87m</th>\n",
       "      <th>count</th>\n",
       "      <td>600.000000</td>\n",
       "    </tr>\n",
       "    <tr>\n",
       "      <th>max</th>\n",
       "      <td>36.993735</td>\n",
       "    </tr>\n",
       "    <tr>\n",
       "      <th>mean</th>\n",
       "      <td>23.033820</td>\n",
       "    </tr>\n",
       "    <tr>\n",
       "      <th>min</th>\n",
       "      <td>10.439399</td>\n",
       "    </tr>\n",
       "    <tr>\n",
       "      <th>var</th>\n",
       "      <td>17.199339</td>\n",
       "    </tr>\n",
       "  </tbody>\n",
       "</table>\n",
       "</div>"
      ],
      "text/plain": [
       "timestamp                              2018-12-31 17:00:00\n",
       "Air_Temp_87m   count                            600.000000\n",
       "               max                              -15.477113\n",
       "               mean                             -15.691004\n",
       "               min                              -15.805410\n",
       "               var                                0.002746\n",
       "Cup_WS_C1_105m 3s_gust                            8.805074\n",
       "               count                            600.000000\n",
       "               integrated_low_freq_ke             0.212934\n",
       "               max                                8.917205\n",
       "               mean                               7.490526\n",
       "               min                                5.818164\n",
       "               var                                0.288631\n",
       "Cup_WS_C1_130m 3s_gust                            8.685490\n",
       "               count                            600.000000\n",
       "               integrated_low_freq_ke             0.195348\n",
       "               max                                9.123878\n",
       "               mean                               7.629745\n",
       "               min                                6.183786\n",
       "               var                                0.257707\n",
       "DeltaT_122_87m count                            600.000000\n",
       "               max                               -0.274433\n",
       "               mean                              -0.304441\n",
       "               min                               -0.330359\n",
       "               var                                0.000068\n",
       "Vane_WD_122m   count                            600.000000\n",
       "               max                               33.494219\n",
       "               mean                              22.310701\n",
       "               min                               11.305162\n",
       "               var                               15.631823\n",
       "Vane_WD_87m    count                            600.000000\n",
       "               max                               36.993735\n",
       "               mean                              23.033820\n",
       "               min                               10.439399\n",
       "               var                               17.199339"
      ]
     },
     "execution_count": 117,
     "metadata": {},
     "output_type": "execute_result"
    }
   ],
   "source": [
    "met = pd.read_parquet(data_path)\n",
    "met.head(1).T"
   ]
  },
  {
   "cell_type": "markdown",
   "metadata": {},
   "source": [
    "## Cyclic features\n",
    "There are three cyclic features here: wind direction (angle), time of year (seasonal cycle), and time of day (diurnal cycle). In a cyclic feature, points at the beginning and end of the data ranges are actually adjacent: 0 degrees is close to 359 degreees, January is close to December, and 00:01 is close to 23:59. What would normally be simple linear operations, like feature1 - feature2, are non-linear with cyclic features. There are two ways to capture these relationships: 1) reimplement every model to use cyclic-aware arithmetic, or 2) convert the cyclic features to 2 component dimensions with sine and cosine transforms. Option 2 is the practical choice, and is what I'll do here.\n",
    "### Time of Year\n",
    "Of course the calendar itself is not causal - time of year is a proxy for the earth's axial tilt and associated seasonality effects.\n",
    "\n",
    "Time of year may not add much predictive value for this use case because of the single year of data and blocked CV schema. This means large chunks of a season will be held out, forcing the model to extrapolate and hurting performance. But I think it is still a preferred outcome to the non-blocked alternative: overconfident CV due to data leakage from autocorrelation.\n",
    "### Time of Day\n",
    "Like time of year, time of day is a proxy variable for a separate causal mechanism: the rising and setting of the sun and its associated processes."
   ]
  },
  {
   "cell_type": "code",
   "execution_count": 118,
   "metadata": {},
   "outputs": [],
   "source": [
    "minute_of_day = met.index.hour * 60 + met.index.minute\n",
    "minute_of_year = (met.index.dayofyear - 1) * 60 * 24 + minute_of_day # dayofyear starts at 1; shift -1 to zero-index\n",
    "# scale to radians\n",
    "minute_of_day *= 2 * np.pi / (24 * 60)\n",
    "minute_of_year *= 2 * np.pi / (365 * 24 * 60) # data is from 2019 so I'll ignore leap years"
   ]
  },
  {
   "cell_type": "code",
   "execution_count": 119,
   "metadata": {},
   "outputs": [
    {
     "data": {
      "text/plain": [
       "(0.0, 6.239552075879728, 0.0, 6.283065764080135)"
      ]
     },
     "execution_count": 119,
     "metadata": {},
     "output_type": "execute_result"
    }
   ],
   "source": [
    "# check. Maxes are different due to different resolutions\n",
    "# 144 10 minute periods per day, 52560 10 min periods per year\n",
    "minute_of_day.min(), minute_of_day.max(), minute_of_year.min(), minute_of_year.max()"
   ]
  },
  {
   "cell_type": "code",
   "execution_count": 120,
   "metadata": {},
   "outputs": [],
   "source": [
    "met.loc[:, ('derived', 'season_sin')] = np.sin(minute_of_year)\n",
    "met.loc[:, ('derived', 'season_cos')] = np.cos(minute_of_year)\n",
    "met.loc[:, ('derived', 'day_sin')] = np.sin(minute_of_day)\n",
    "met.loc[:, ('derived', 'day_cos')] = np.cos(minute_of_day)"
   ]
  },
  {
   "cell_type": "markdown",
   "metadata": {},
   "source": [
    "### Wind Direction\n",
    "Wind direction is different from time of day/year for two reasons: 1) there are multiple aggregate metrics (mean, min, max) which are each cyclical, and 2) there are two sets of wind direction measurements, at different heights. The challenge is to represent them in a way that downstream models, which have no concept of cyclic operations, can make meaningful linear combinations or decision splits with. One option is to simply sin/cos transform all the features, but that leaves the models to figure everything out on their own. That condemns a linear model to irrelevance, and even nonlinear models probably need more data than I have to succeed with that approach. Instead, I'll use differencing to simultaneously better represent what what I actually care about AND reduce the importance of cyclic wrapping.\n",
    "\n",
    "#### Cyclic aggregate stats\n",
    "The purpose of mean, min, max, and var stats is to describe the distribution of wind directions. A direction distribution consists of two pieces of information: location, which is cyclical, and 'spread', which isn't. I'll put the location information into the mean, and do the appropriate sine/cosine transformations. But for min and max, I no longer need their location information and can replace them with (min - mean) and (max - mean). This isolates the 'spread' information, and removes the cyclic part. This is important because now comparisons can be done with linear operations, and I don't need to sin/cos transform them. I'll also express the differences as z-scores by dividing by direction standard deviation."
   ]
  },
  {
   "cell_type": "code",
   "execution_count": 121,
   "metadata": {},
   "outputs": [],
   "source": [
    "# keep track of redundant features\n",
    "redundant_features = []\n",
    "# convert min, max to z-normed spreads\n",
    "for vane in ['Vane_WD_122m', 'Vane_WD_87m']:\n",
    "    std_dev = np.sqrt(met.loc[:, (vane, 'var')].to_numpy())\n",
    "    for stat in ['min', 'max']:\n",
    "        met.loc[:, (vane, f'{stat}_z')] = feat.angular_difference(met.loc[:, (vane, stat)],\n",
    "                                                                  met.loc[:, (vane, 'mean')]) / std_dev\n",
    "        redundant_features.append((vane, stat))"
   ]
  },
  {
   "cell_type": "markdown",
   "metadata": {},
   "source": [
    "#### Multiple heights\n",
    "Redundant measurements are highly correlated. I'll express them additively, in terms of a reference direction and the difference between them (called veer). I'll leave the difference as a single dimension with range (-180, 180], simply because there will rarely be differences more than 90 degrees, so cyclic wrapping is less of a concern.\n",
    "\n",
    "Finally, I could save a dimension and combine wind speed with sin/cos transforms of wind direction, creating vector components. But speed is such a critical feature that I think it's worth leaving separate. It is easier to interpret and to combine with the other aggregate features based on magnitude: min, max, 3s_gust, and var."
   ]
  },
  {
   "cell_type": "code",
   "execution_count": 122,
   "metadata": {},
   "outputs": [],
   "source": [
    "# gradients wrt height\n",
    "subset = ['var', 'min_z', 'max_z']\n",
    "met.loc[:, idx['Vane_WD_122m', [col + '_rate' for col in subset]]] = (met.loc[:, idx['Vane_WD_122m', subset]] - \n",
    "                                                                   met.loc[:, idx['Vane_WD_87m', subset]].to_numpy())\n",
    "met.loc[:, ('Vane_WD_122m', 'veer_rate')] = feat.angular_difference(met.loc[:, ('Vane_WD_122m', 'mean')],\n",
    "                                                                    met.loc[:, ('Vane_WD_87m', 'mean')])\n",
    "for col in (subset + ['mean']):\n",
    "    redundant_features.append(('Vane_WD_122m', col))\n",
    "\n",
    "# component transform\n",
    "for label, op in {'sin': np.sin, 'cos': np.cos}.items():\n",
    "    met.loc[:, ('Vane_WD_87m', f'mean_{label}')] = op(np.pi / 180 * met.loc[:, ('Vane_WD_87m', 'mean')])\n",
    "\n",
    "redundant_features.append(('Vane_WD_87m', 'mean'))"
   ]
  },
  {
   "cell_type": "markdown",
   "metadata": {},
   "source": [
    "## Domain Specific Features\n",
    "The target column as units of energy, so I'll make squared versions of each wind speed metric.\n",
    "\n",
    "For interpretability and consistency, I'll also represent the two wind speeds as a reference and difference.\n",
    "\n",
    "In a full application, I would add domain specific features like bulk richardson number and monin-obukhov length. But the combination of wind shear, temperature gradient, and directional veer provide similar information."
   ]
  },
  {
   "cell_type": "code",
   "execution_count": 123,
   "metadata": {},
   "outputs": [],
   "source": [
    "# energy features: ke ~ v^2\n",
    "for instr in ['Cup_WS_C1_130m', 'Cup_WS_C1_105m']:\n",
    "    for speed in ['mean', 'max', 'min', '3s_gust']:\n",
    "        met.loc[:, (instr, speed + '_sq')] = met.loc[:, (instr, speed)] ** 2"
   ]
  },
  {
   "cell_type": "code",
   "execution_count": 124,
   "metadata": {
    "scrolled": true
   },
   "outputs": [],
   "source": [
    "# wind shear - power law model\n",
    "met.loc[:, ('derived', 'shear_exp')] = feat.power_law_shear(met.loc[:,('Cup_WS_C1_130m', 'mean')],\n",
    "                                                            met.loc[:,('Cup_WS_C1_105m', 'mean')],\n",
    "                                                            upper_height=130,\n",
    "                                                            lower_height=105)\n",
    "redundant_features.append(('Cup_WS_C1_130m', 'mean'))"
   ]
  },
  {
   "cell_type": "code",
   "execution_count": 125,
   "metadata": {},
   "outputs": [],
   "source": [
    "# z-transform min and max\n",
    "for instr in ['Cup_WS_C1_130m', 'Cup_WS_C1_105m', 'Air_Temp_87m', 'DeltaT_122_87m']:\n",
    "    std_dev = np.sqrt(met.loc[:, (instr, 'var')].to_numpy())\n",
    "    for stat in ['min', 'max', '3s_gust']:\n",
    "        try:\n",
    "            met.loc[:, (instr, stat + '_z')] = (met.loc[:, (instr, stat)] - met.loc[:, (instr, 'mean')]) / std_dev\n",
    "            redundant_features.append((instr, stat))\n",
    "        except KeyError: # 3s_gust only on anemometers\n",
    "            continue"
   ]
  },
  {
   "cell_type": "code",
   "execution_count": 126,
   "metadata": {},
   "outputs": [],
   "source": [
    "# wind speed gradients\n",
    "for stat in ['mean', 'min', 'max', 'var', '3s_gust']:\n",
    "    redundant_features.append(('Cup_WS_C1_130m', stat))\n",
    "    for suffix in ['_z', '_sq']:\n",
    "        try:\n",
    "            met.loc[:, ('Cup_WS_C1_130m', stat + suffix + '_rate')] = (met.loc[:, ('Cup_WS_C1_130m', stat + suffix)] -\n",
    "                                                                       met.loc[:, ('Cup_WS_C1_105m', stat + suffix)].to_numpy())\n",
    "            redundant_features.append(('Cup_WS_C1_130m', stat + suffix))\n",
    "        except KeyError:\n",
    "            continue\n",
    "met.loc[:, ('Cup_WS_C1_130m', 'mean_rate')] = (met.loc[:, ('Cup_WS_C1_130m', 'mean')] -\n",
    "                                               met.loc[:, ('Cup_WS_C1_105m', 'mean')].to_numpy())"
   ]
  },
  {
   "cell_type": "code",
   "execution_count": 127,
   "metadata": {},
   "outputs": [],
   "source": [
    "met = met.drop(columns=redundant_features).sort_index(axis=1)"
   ]
  },
  {
   "cell_type": "code",
   "execution_count": 128,
   "metadata": {},
   "outputs": [
    {
     "data": {
      "text/html": [
       "<div>\n",
       "<style scoped>\n",
       "    .dataframe tbody tr th:only-of-type {\n",
       "        vertical-align: middle;\n",
       "    }\n",
       "\n",
       "    .dataframe tbody tr th {\n",
       "        vertical-align: top;\n",
       "    }\n",
       "\n",
       "    .dataframe thead th {\n",
       "        text-align: right;\n",
       "    }\n",
       "</style>\n",
       "<table border=\"1\" class=\"dataframe\">\n",
       "  <thead>\n",
       "    <tr style=\"text-align: right;\">\n",
       "      <th></th>\n",
       "      <th>timestamp</th>\n",
       "      <th>2018-12-31 17:00:00</th>\n",
       "    </tr>\n",
       "  </thead>\n",
       "  <tbody>\n",
       "    <tr>\n",
       "      <th rowspan=\"5\" valign=\"top\">Air_Temp_87m</th>\n",
       "      <th>count</th>\n",
       "      <td>600.000000</td>\n",
       "    </tr>\n",
       "    <tr>\n",
       "      <th>max_z</th>\n",
       "      <td>4.081659</td>\n",
       "    </tr>\n",
       "    <tr>\n",
       "      <th>mean</th>\n",
       "      <td>-15.691004</td>\n",
       "    </tr>\n",
       "    <tr>\n",
       "      <th>min_z</th>\n",
       "      <td>-2.183208</td>\n",
       "    </tr>\n",
       "    <tr>\n",
       "      <th>var</th>\n",
       "      <td>0.002746</td>\n",
       "    </tr>\n",
       "    <tr>\n",
       "      <th rowspan=\"11\" valign=\"top\">Cup_WS_C1_105m</th>\n",
       "      <th>3s_gust_sq</th>\n",
       "      <td>77.529324</td>\n",
       "    </tr>\n",
       "    <tr>\n",
       "      <th>3s_gust_z</th>\n",
       "      <td>2.446835</td>\n",
       "    </tr>\n",
       "    <tr>\n",
       "      <th>count</th>\n",
       "      <td>600.000000</td>\n",
       "    </tr>\n",
       "    <tr>\n",
       "      <th>integrated_low_freq_ke</th>\n",
       "      <td>0.212934</td>\n",
       "    </tr>\n",
       "    <tr>\n",
       "      <th>max_sq</th>\n",
       "      <td>79.516541</td>\n",
       "    </tr>\n",
       "    <tr>\n",
       "      <th>max_z</th>\n",
       "      <td>2.655550</td>\n",
       "    </tr>\n",
       "    <tr>\n",
       "      <th>mean</th>\n",
       "      <td>7.490526</td>\n",
       "    </tr>\n",
       "    <tr>\n",
       "      <th>mean_sq</th>\n",
       "      <td>56.107975</td>\n",
       "    </tr>\n",
       "    <tr>\n",
       "      <th>min_sq</th>\n",
       "      <td>33.851032</td>\n",
       "    </tr>\n",
       "    <tr>\n",
       "      <th>min_z</th>\n",
       "      <td>-3.112852</td>\n",
       "    </tr>\n",
       "    <tr>\n",
       "      <th>var</th>\n",
       "      <td>0.288631</td>\n",
       "    </tr>\n",
       "    <tr>\n",
       "      <th rowspan=\"10\" valign=\"top\">Cup_WS_C1_130m</th>\n",
       "      <th>3s_gust_sq_rate</th>\n",
       "      <td>-2.091587</td>\n",
       "    </tr>\n",
       "    <tr>\n",
       "      <th>3s_gust_z_rate</th>\n",
       "      <td>-0.367159</td>\n",
       "    </tr>\n",
       "    <tr>\n",
       "      <th>count</th>\n",
       "      <td>600.000000</td>\n",
       "    </tr>\n",
       "    <tr>\n",
       "      <th>integrated_low_freq_ke</th>\n",
       "      <td>0.195348</td>\n",
       "    </tr>\n",
       "    <tr>\n",
       "      <th>max_sq_rate</th>\n",
       "      <td>3.728600</td>\n",
       "    </tr>\n",
       "    <tr>\n",
       "      <th>max_z_rate</th>\n",
       "      <td>0.287690</td>\n",
       "    </tr>\n",
       "    <tr>\n",
       "      <th>mean_rate</th>\n",
       "      <td>0.139220</td>\n",
       "    </tr>\n",
       "    <tr>\n",
       "      <th>mean_sq_rate</th>\n",
       "      <td>2.105042</td>\n",
       "    </tr>\n",
       "    <tr>\n",
       "      <th>min_sq_rate</th>\n",
       "      <td>4.388176</td>\n",
       "    </tr>\n",
       "    <tr>\n",
       "      <th>min_z_rate</th>\n",
       "      <td>0.264505</td>\n",
       "    </tr>\n",
       "    <tr>\n",
       "      <th rowspan=\"5\" valign=\"top\">DeltaT_122_87m</th>\n",
       "      <th>count</th>\n",
       "      <td>600.000000</td>\n",
       "    </tr>\n",
       "    <tr>\n",
       "      <th>max_z</th>\n",
       "      <td>3.643092</td>\n",
       "    </tr>\n",
       "    <tr>\n",
       "      <th>mean</th>\n",
       "      <td>-0.304441</td>\n",
       "    </tr>\n",
       "    <tr>\n",
       "      <th>min_z</th>\n",
       "      <td>-3.146646</td>\n",
       "    </tr>\n",
       "    <tr>\n",
       "      <th>var</th>\n",
       "      <td>0.000068</td>\n",
       "    </tr>\n",
       "    <tr>\n",
       "      <th rowspan=\"2\" valign=\"top\">Vane_WD_122m</th>\n",
       "      <th>count</th>\n",
       "      <td>600.000000</td>\n",
       "    </tr>\n",
       "    <tr>\n",
       "      <th>veer_rate</th>\n",
       "      <td>-0.723119</td>\n",
       "    </tr>\n",
       "    <tr>\n",
       "      <th rowspan=\"6\" valign=\"top\">Vane_WD_87m</th>\n",
       "      <th>count</th>\n",
       "      <td>600.000000</td>\n",
       "    </tr>\n",
       "    <tr>\n",
       "      <th>max_z</th>\n",
       "      <td>3.366099</td>\n",
       "    </tr>\n",
       "    <tr>\n",
       "      <th>mean_cos</th>\n",
       "      <td>0.920274</td>\n",
       "    </tr>\n",
       "    <tr>\n",
       "      <th>mean_sin</th>\n",
       "      <td>0.391274</td>\n",
       "    </tr>\n",
       "    <tr>\n",
       "      <th>min_z</th>\n",
       "      <td>-3.036843</td>\n",
       "    </tr>\n",
       "    <tr>\n",
       "      <th>var</th>\n",
       "      <td>17.199339</td>\n",
       "    </tr>\n",
       "    <tr>\n",
       "      <th rowspan=\"5\" valign=\"top\">derived</th>\n",
       "      <th>day_cos</th>\n",
       "      <td>-0.258819</td>\n",
       "    </tr>\n",
       "    <tr>\n",
       "      <th>day_sin</th>\n",
       "      <td>-0.965926</td>\n",
       "    </tr>\n",
       "    <tr>\n",
       "      <th>season_cos</th>\n",
       "      <td>0.999987</td>\n",
       "    </tr>\n",
       "    <tr>\n",
       "      <th>season_sin</th>\n",
       "      <td>-0.005021</td>\n",
       "    </tr>\n",
       "    <tr>\n",
       "      <th>shear_exp</th>\n",
       "      <td>0.086226</td>\n",
       "    </tr>\n",
       "  </tbody>\n",
       "</table>\n",
       "</div>"
      ],
      "text/plain": [
       "timestamp                              2018-12-31 17:00:00\n",
       "Air_Temp_87m   count                            600.000000\n",
       "               max_z                              4.081659\n",
       "               mean                             -15.691004\n",
       "               min_z                             -2.183208\n",
       "               var                                0.002746\n",
       "Cup_WS_C1_105m 3s_gust_sq                        77.529324\n",
       "               3s_gust_z                          2.446835\n",
       "               count                            600.000000\n",
       "               integrated_low_freq_ke             0.212934\n",
       "               max_sq                            79.516541\n",
       "               max_z                              2.655550\n",
       "               mean                               7.490526\n",
       "               mean_sq                           56.107975\n",
       "               min_sq                            33.851032\n",
       "               min_z                             -3.112852\n",
       "               var                                0.288631\n",
       "Cup_WS_C1_130m 3s_gust_sq_rate                   -2.091587\n",
       "               3s_gust_z_rate                    -0.367159\n",
       "               count                            600.000000\n",
       "               integrated_low_freq_ke             0.195348\n",
       "               max_sq_rate                        3.728600\n",
       "               max_z_rate                         0.287690\n",
       "               mean_rate                          0.139220\n",
       "               mean_sq_rate                       2.105042\n",
       "               min_sq_rate                        4.388176\n",
       "               min_z_rate                         0.264505\n",
       "DeltaT_122_87m count                            600.000000\n",
       "               max_z                              3.643092\n",
       "               mean                              -0.304441\n",
       "               min_z                             -3.146646\n",
       "               var                                0.000068\n",
       "Vane_WD_122m   count                            600.000000\n",
       "               veer_rate                         -0.723119\n",
       "Vane_WD_87m    count                            600.000000\n",
       "               max_z                              3.366099\n",
       "               mean_cos                           0.920274\n",
       "               mean_sin                           0.391274\n",
       "               min_z                             -3.036843\n",
       "               var                               17.199339\n",
       "derived        day_cos                           -0.258819\n",
       "               day_sin                           -0.965926\n",
       "               season_cos                         0.999987\n",
       "               season_sin                        -0.005021\n",
       "               shear_exp                          0.086226"
      ]
     },
     "execution_count": 128,
     "metadata": {},
     "output_type": "execute_result"
    }
   ],
   "source": [
    "met.head(1).T"
   ]
  },
  {
   "cell_type": "markdown",
   "metadata": {},
   "source": [
    "# Complete Case Analysis\n",
    "I'll drop rows where data availability was poor"
   ]
  },
  {
   "cell_type": "code",
   "execution_count": 129,
   "metadata": {},
   "outputs": [
    {
     "data": {
      "text/plain": [
       "52560"
      ]
     },
     "execution_count": 129,
     "metadata": {},
     "output_type": "execute_result"
    }
   ],
   "source": [
    "len(met)"
   ]
  },
  {
   "cell_type": "code",
   "execution_count": 130,
   "metadata": {},
   "outputs": [
    {
     "data": {
      "text/plain": [
       "46071"
      ]
     },
     "execution_count": 130,
     "metadata": {},
     "output_type": "execute_result"
    }
   ],
   "source": [
    "threshold = 0.8\n",
    "mask = met.loc[:, idx[:, 'count']].min(axis=1) >= (threshold * 600)\n",
    "met = met.loc[mask,:].dropna()\n",
    "len(met)"
   ]
  },
  {
   "cell_type": "code",
   "execution_count": 135,
   "metadata": {},
   "outputs": [],
   "source": [
    "met = met.drop(columns=[col for col in met.columns if col[1] == 'count'])"
   ]
  },
  {
   "cell_type": "markdown",
   "metadata": {},
   "source": [
    "# Baseline - linear regression"
   ]
  },
  {
   "cell_type": "code",
   "execution_count": 131,
   "metadata": {},
   "outputs": [],
   "source": [
    "from sklearn.linear_model import LinearRegression\n",
    "\n"
   ]
  },
  {
   "cell_type": "code",
   "execution_count": 132,
   "metadata": {
    "scrolled": true
   },
   "outputs": [
    {
     "data": {
      "text/plain": [
       "<matplotlib.axes._subplots.AxesSubplot at 0x7f7ff31590a0>"
      ]
     },
     "execution_count": 132,
     "metadata": {},
     "output_type": "execute_result"
    },
    {
     "data": {
      "image/png": "[encoded data removed]",
      "text/plain": [
       "<Figure size 432x288 with 1 Axes>"
      ]
     },
     "metadata": {
      "needs_background": "light"
     },
     "output_type": "display_data"
    }
   ],
   "source": [
    "met.plot.scatter(('Cup_WS_C1_105m', 'var'), ('Cup_WS_C1_105m', 'integrated_low_freq_ke'), alpha=0.1, s=1)"
   ]
  },
  {
   "cell_type": "markdown",
   "metadata": {},
   "source": [
    "From the plot above, linear regression is an obvious choice of baseline model."
   ]
  },
  {
   "cell_type": "code",
   "execution_count": null,
   "metadata": {},
   "outputs": [],
   "source": []
  }
 ],
 "metadata": {
  "kernelspec": {
   "display_name": "Python 3",
   "language": "python",
   "name": "python3"
  },
  "language_info": {
   "codemirror_mode": {
    "name": "ipython",
    "version": 3
   },
   "file_extension": ".py",
   "mimetype": "text/x-python",
   "name": "python",
   "nbconvert_exporter": "python",
   "pygments_lexer": "ipython3",
   "version": "3.8.2"
  },
  "toc": {
   "base_numbering": 1,
   "nav_menu": {},
   "number_sections": true,
   "sideBar": true,
   "skip_h1_title": false,
   "title_cell": "Table of Contents",
   "title_sidebar": "Contents",
   "toc_cell": false,
   "toc_position": {},
   "toc_section_display": true,
   "toc_window_display": false
  },
  "varInspector": {
   "cols": {
    "lenName": 16,
    "lenType": 16,
    "lenVar": 40
   },
   "kernels_config": {
    "python": {
     "delete_cmd_postfix": "",
     "delete_cmd_prefix": "del ",
     "library": "var_list.py",
     "varRefreshCmd": "print(var_dic_list())"
    },
    "r": {
     "delete_cmd_postfix": ") ",
     "delete_cmd_prefix": "rm(",
     "library": "var_list.r",
     "varRefreshCmd": "cat(var_dic_list()) "
    }
   },
   "types_to_exclude": [
    "module",
    "function",
    "builtin_function_or_method",
    "instance",
    "_Feature"
   ],
   "window_display": false
  }
 },
 "nbformat": 4,
 "nbformat_minor": 4
}
